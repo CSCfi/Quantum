{
 "cells": [
  {
   "cell_type": "markdown",
   "metadata": {},
   "source": [
    "Based on the\n",
    "\n",
    "[1]: Quantum Amplitude Amplification and Estimation, G. Brassard et al., 2000, https://arxiv.org/abs/quant-ph/0005055\n",
    "\n",
    "[2]: Quantum Risk Analysis, S. Woerner and D.J. Egger, 2018, https://arxiv.org/abs/1806.06893\n",
    "\n",
    "[3]: Amplitude Estimation without Phase Estimation, Y. Suzuki et al., 2020, https://arxiv.org/abs/1904.10246\n",
    "\n",
    "***"
   ]
  },
  {
   "cell_type": "markdown",
   "metadata": {},
   "source": [
    "# Amplitude amplification\n",
    "\n",
    "Suppose we have a set $X$ and a function $f: X \\rightarrow \\{ 0,1\\}$, which outputs $f(x)=0$ if $x$ is a bad element, and $f(x)=1$ if $x$ is a good element. In the case that arbitrarily chosen $x \\in X$ is a good element with a probability $a$, we would have to call function $f$ on average $n=1/a$ times to find a good element. \n",
    "In quantum computing, the Quantum amplitude amplification can find the good element in $\\mathcal{O}(\\sqrt{n})$, allowing to solve the problem quadratically faster.\n",
    "\n",
    "Consider an unitary quantum operator $A$ acting on a register of $m+1$ qubits as\n",
    "    $$A |0\\rangle_{m+1} = \\sqrt{1-a} |\\psi_0\\rangle_m |0\\rangle + \\sqrt{a} |\\psi_1\\rangle_m |1\\rangle,$$\n",
    "where $|\\psi_0\\rangle_m$ and $|\\psi_1\\rangle_m$ are normalized states and $a$ is the probability to measure the state $|0\\rangle$. By perforing multiple measurements on the state $A |0\\rangle_{m+1}$, we could extract the probability $a$, but this would still be the complexity $\\mathcal{O}(\\sqrt{n})$. In order to cut down the required amount of operations $A$, we define the amplification operator\n",
    "    $$Q = A S_0 A^{-1} S_{\\psi},$$\n",
    "where $S_0$ and $S_\\psi$ are the reflection operators acting only on the all-zero and the good states respectively.\n",
    "Defined as \n",
    "$$S_0 = I_{n+1} - 2|0\\rangle_{n+1} \\langle0|_{n+1},$$ \n",
    "the $S_0$ flips the phase of the all-zero state $|0\\rangle$, \n",
    "while the \n",
    "$$S_{\\psi_1} = I_{n+1} - 2|\\psi_1 \\rangle_n |1\\rangle \\langle \\psi_1|_n \\langle 1|$$\n",
    " flips the phase of the good-state . \n",
    "\n",
    "By defing the parameter $\\theta_a = \\arcsin(\\sqrt{a})$, the state of the system after an operation $A$ as well as a $k$ number of operations $Q$ can be written as\n",
    "$$ A |0\\rangle_{m+1} = \\cos(\\theta_a) |\\psi_0\\rangle_m |0\\rangle + \\sin(\\theta_a) |\\psi_1\\rangle_m |1\\rangle $$\n",
    "$$ Q^k A |0\\rangle_{m+1} = \\cos((2k+1)\\theta_a) |\\psi_0\\rangle_m |0\\rangle + \\sin((2k+1)\\theta_a) |\\psi_1\\rangle_m |1\\rangle. $$\n",
    "\n",
    "After the amplitude aplification process, the operator $A$ and its inverse are called total of $2k+1$ times, once at the beginning, and twice for every $Q$ operation.\n",
    "For $0 \\leqslant a \\leqslant 1$, the probability to measure the state $|1\\rangle$ after $k$ queries is then\n",
    "$$ P_1 = \\sin^2((2k+1)\\theta_a), \\qquad \\text{where} \\qquad 0 \\leqslant \\theta_a \\leqslant \\frac{\\pi}{2}. $$\n",
    "The good state can be then found succesfully if $P_1$ is close to 1. To this end, the amount of queries for $Q$ needs to be chosen appropriately, in order to get the best possible $P_1$.\n",
    "\n",
    "\n",
    "# Single Qubit example\n",
    "As a simple example, we consider an asset $V$, which has value of either $V_0=0$ with probability $1-p$ or $V_1=1$ with probability $p$. \n",
    "The value of the asset can be written as $V = (1-p)V_0 + pV_1$, which can be conviniently encoded into the single qubit as\n",
    "    $$ A|0\\rangle = \\sqrt{1-p} |0\\rangle + \\sqrt{p} |1\\rangle. $$\n",
    "\n",
    "We will consider the amplitude estimation for this example implemented in two different ways.\n",
    "\n",
    "1) First, we use the canonical amplitude estimation [1], which utilizes the quantum Fourier transform, as well as additional $m$ qubits used in the evaluation.\n",
    "\n",
    "2) The second method [3] does not require any additional qubits and uses less gates, and is thus more suitable for the real quantum hardware currently available. This method relies on the classical post-processing in the form of maximum likelihood estimation."
   ]
  },
  {
   "cell_type": "markdown",
   "metadata": {},
   "source": [
    "# Choosing backend simulator\n",
    "\n",
    "Can be run on\n",
    "\n",
    "1) Noise-free simulators, such as Qiskit Aer.\n",
    "2) Noisy simulators, for example IQMFakeAdonis with noise profile correspoding to Helmi Quantum computer. (Amount of available qubits limited by the choice of noise profile)\n",
    "3) On real quantum computer, such as Helmi. Note that this requires access to the quantum computer. (Qubits again limited by the choice of hardware)\n",
    "\n",
    "Backends used in this notebook are chosen in the cell below."
   ]
  },
  {
   "cell_type": "code",
   "execution_count": 1,
   "metadata": {},
   "outputs": [],
   "source": [
    "from qiskit import Aer\n",
    "from iqm.qiskit_iqm import IQMFakeAdonis, IQMProvider\n",
    "import os\n",
    "\n",
    "\n",
    "#UNCOMMENT YOUR CHOICE OF BACKEND\n",
    "#Noiseless simulator----------------------------------------------\n",
    "#backend_simulator = Aer.get_backend('aer_simulator_statevector')\n",
    "#-----------------------------------------------------------------\n",
    "\n",
    "#Fake simulating Helmi--------------------------------------------\n",
    "#backend_simulator = IQMFakeAdonis()\n",
    "#-----------------------------------------------------------------\n",
    "\n",
    "#Helmi quantum computer (Requires connection)---------------------\n",
    "HELMI_CORTEX_URL = os.getenv('HELMI_CORTEX_URL')\n",
    "provider = IQMProvider(HELMI_CORTEX_URL)\n",
    "backend_simulator = provider.get_backend()\n",
    "#-----------------------------------------------------------------\n",
    "\n"
   ]
  },
  {
   "cell_type": "markdown",
   "metadata": {},
   "source": [
    "# Canonical QAE"
   ]
  },
  {
   "cell_type": "markdown",
   "metadata": {},
   "source": [
    "### Imports"
   ]
  },
  {
   "cell_type": "code",
   "execution_count": 2,
   "metadata": {},
   "outputs": [],
   "source": [
    "import numpy as np\n",
    "import matplotlib.pyplot as plt\n",
    "\n",
    "from qiskit import QuantumCircuit, QuantumRegister, ClassicalRegister, execute\n",
    "from qiskit.circuit.library import QFT\n",
    "\n",
    "pi=np.pi"
   ]
  },
  {
   "cell_type": "markdown",
   "metadata": {},
   "source": [
    "### Parameters\n",
    "\n",
    "1) The probability `p_initial` for the asset $V = (1-p)V_0 + pV_1$\n",
    "\n",
    "2) Number of evaluation qubits `m_qbit_eval`. Total qubits will `m_qbit_eval + 1`\n",
    "\n",
    "3) Number of shots `shot_amont` as how many times the circuit is excecuted"
   ]
  },
  {
   "cell_type": "code",
   "execution_count": 3,
   "metadata": {},
   "outputs": [],
   "source": [
    "p_initial = 0.3\n",
    "m_qbit_eval = 4         #Total will be m_qbits+1\n",
    "shot_amount_canonical = 100"
   ]
  },
  {
   "cell_type": "markdown",
   "metadata": {},
   "source": [
    "### $A$-gate\n",
    "Acting on the state $|0\\rangle$, the operator $$A |0\\rangle = \\cos(\\theta_a) |0\\rangle + \\sin(\\theta_a) |1\\rangle$$\n",
    "can be implemented with Y-rotation defined by matrix\n",
    "$$    R_y(\\theta) = \n",
    "        \\begin{pmatrix}\n",
    "        \\cos(\\theta/2) & -\\sin(\\theta/2) \\\\\n",
    "        \\sin(\\theta/2) & \\cos(\\theta/2)\n",
    "        \\end{pmatrix}, $$\n",
    "\n",
    "such that $A = R_y(\\theta)$, and $\\theta = 2\\arcsin(\\sqrt{p})$."
   ]
  },
  {
   "cell_type": "code",
   "execution_count": 4,
   "metadata": {},
   "outputs": [],
   "source": [
    "def Build_A(p):\n",
    "    circ = QuantumCircuit(1)\n",
    "    theta = 2*np.arcsin(np.sqrt(p))\n",
    "    circ.ry(theta, 0)\n",
    "    return circ.to_gate(label='  A  ')"
   ]
  },
  {
   "cell_type": "markdown",
   "metadata": {},
   "source": [
    "### $Q$-gate\n",
    "\n",
    "Fist we define the reflection operators $S_0$ and $S_{\\psi_1}$.\n",
    "\n",
    "For one qubit, these operators really simple. The phases all-zero state $|0\\rangle$ and good state $|1\\rangle$ can be flipped with the use of $Z$ and $X$ gates as follows\n",
    "$$ S_0 |0\\rangle = XZX |0\\rangle = \n",
    "        \\begin{pmatrix}\n",
    "        -1 & 0 \\\\\n",
    "         0 & 1\n",
    "        \\end{pmatrix} \n",
    "        \\begin{pmatrix}\n",
    "        1 \\\\\n",
    "        0\n",
    "        \\end{pmatrix} \n",
    "        = -|0\\rangle $$\n",
    "\n",
    "$$ S_{\\psi_1} |1\\rangle = Z |1\\rangle = \n",
    "    \\begin{pmatrix}\n",
    "    1 & 0 \\\\\n",
    "    0 & -1\n",
    "    \\end{pmatrix}\n",
    "    \\begin{pmatrix}\n",
    "    0 \\\\\n",
    "    1\n",
    "    \\end{pmatrix} \n",
    "    = -|1\\rangle $$\n",
    "\n",
    "As the global phase of the quantum system is irrevelant when it comes to measurements, we can write the amplification operator as $Q=A S_0 A^{-1} S_\\psi = AZA^{-1}Z$. With some simple linea algebra, this simplifies to $Q=R_y(2 \\theta)$.\n",
    "\n",
    "For different powers of $Q$, we get\n",
    "$$ Q^{2^k} = R_y(2^{k+1}\\theta) $$"
   ]
  },
  {
   "cell_type": "code",
   "execution_count": 5,
   "metadata": {},
   "outputs": [],
   "source": [
    "def Build_Q_powers(p, pow_k):\n",
    "    circ = QuantumCircuit(1)\n",
    "    theta = 2*np.arcsin(np.sqrt(p))\n",
    "    circ.ry(pow_k*2*theta, 0)\n",
    "    return circ"
   ]
  },
  {
   "cell_type": "markdown",
   "metadata": {},
   "source": [
    "### Inverse Quantum Fourier Transform (IQFT)\n",
    "We use qiskits' own class for Inverse Quantum Fourier Transform (IQFT). "
   ]
  },
  {
   "cell_type": "code",
   "execution_count": 6,
   "metadata": {},
   "outputs": [],
   "source": [
    "def Build_iqft(m):\n",
    "    circ = QFT(num_qubits=m, approximation_degree=0, do_swaps=True, inverse=True, insert_barriers=False, name='  IQFT  ')\n",
    "    return circ"
   ]
  },
  {
   "cell_type": "markdown",
   "metadata": {},
   "source": [
    "### Building the circuit\n",
    "\n",
    "1) The evaluation qubits are prepared into the uniform superposition with Hadamard-gates. As the evaluation qubits are initially in the state $|0,...,0\\rangle$, this has a same effect as the Quantum Fourier transform.\n",
    "2) The $A$-gate encodes the amplitude of the good state into the objective qubit.\n",
    "3) Perform the amplitude amplification by applying controlled operations $Q^{2^k}$ to the objective qubit, where $k$:th evaluation qubits acts as a control qubit. \n",
    "The information about the eigenvalue of the $Q^{2^k}$ is encoded into the phase of the evaluation qubit through the \"phase kickback\".\n",
    "4) Applying IQFT to the evaluation qubits, to move back into the computational basis.\n",
    "5) Measuring the evaluation qubits."
   ]
  },
  {
   "cell_type": "code",
   "execution_count": 7,
   "metadata": {},
   "outputs": [],
   "source": [
    "def Build_circuit_canonical(m, p):\n",
    "    req_eval = QuantumRegister(m, 'eval')\n",
    "    req_obj = QuantumRegister(1, 'obj')\n",
    "    req_classical = ClassicalRegister(m, 'c')\n",
    "    circ = QuantumCircuit(req_eval, req_obj, req_classical)\n",
    "    A = Build_A(p)\n",
    "    iqft = Build_iqft(m)\n",
    "    circ.h(req_eval)\n",
    "    circ.append(A, req_obj)\n",
    "    for i in range(m):\n",
    "        Q_label = \"$Q$^\" + str(2**i)\n",
    "        Q_ctrl = Build_Q_powers(p, 2**i).to_gate(label=f\"  {Q_label}  \").control()\n",
    "        circ.append(Q_ctrl, [i] + [m])\n",
    "    circ.append(iqft, req_eval)\n",
    "    circ.measure(req_eval, req_classical)\n",
    "    return circ"
   ]
  },
  {
   "cell_type": "markdown",
   "metadata": {},
   "source": [
    "### Postprocessing\n",
    "\n",
    "To recover the amplitude, $a \\in [0,1]$, from the measured states, we use the mapping\n",
    "$$\\hat{a} = \\sin^2(\\frac{y\\pi}{2^m}) \\in [0,1],$$\n",
    "where $y \\in \\{ 0,...,2^m-1 \\}$ and $m$ is the number of evaluation qubits. \n",
    "\n",
    "The mapping is periodic in $2^m$, and symmetric such that $\\sin^2(y\\pi/2^m) = \\sin^2((2^m-y)\\pi/2^m)$\n",
    "\n",
    "The speed-up of the quantum algorithm can be justified as follows.\n",
    "\n",
    "Comparing the estimator $\\hat{a} = \\sin^2(y\\pi/2^m)$ and the exact value $a = \\sin^2(\\theta)$, we can calculate the limit for the error\n",
    "$$ |a - \\hat{a}| \\leqslant  \\frac{\\pi}{2^m} +  \\frac{\\pi^2}{(2^m)^2} = \\mathcal{O}\\bigg(\\frac{1}{2^m}\\bigg)$$\n",
    "\n",
    "In comparison, the convergence rate of the classical algorithm is\n",
    "$$ \\mathcal{O}\\bigg(\\frac{1}{\\sqrt{2^m}}\\bigg) $$\n",
    "which makes the quantum amplitude estimation quadratically faster."
   ]
  },
  {
   "cell_type": "code",
   "execution_count": 8,
   "metadata": {},
   "outputs": [],
   "source": [
    "def a_mapping(m, y):\n",
    "    return np.sin(pi*y / (2**m))**2"
   ]
  },
  {
   "cell_type": "markdown",
   "metadata": {},
   "source": [
    "Postprocessing for the measurements. We have to aggregate the amplitudes due to the symmetry of the estimator."
   ]
  },
  {
   "cell_type": "code",
   "execution_count": 9,
   "metadata": {},
   "outputs": [],
   "source": [
    "def postprocessing(m, measurements, shots):\n",
    "    counts = list(measurements.values())\n",
    "    states = list(measurements.keys())\n",
    "    amps = np.zeros(2**m, dtype=float)\n",
    "\n",
    "    #Mapping binaries representing measured states to the integers and\n",
    "    #Filling in nonzero amplitudes\n",
    "    for i, x in enumerate(states):\n",
    "        decimal = int(str(x), 2)\n",
    "        amps[decimal] = counts[i]/shots\n",
    "\n",
    "    #Lists containing estimated values for amplitudes and corresponding frequencies based on measurements\n",
    "    a_list = [a_mapping(m, x) for x in range(2**(m - 1) + 1)]\n",
    "    freq_list = []\n",
    "\n",
    "    #Aggregating amplitudes corresponding to the same states\n",
    "    for i in range(int(2**(m - 1) + 1)):\n",
    "        freq_list.append(amps[i] + amps[2**m-1 - i])\n",
    "\n",
    "    # finding amplitude with highest frequency\n",
    "    max_freq = round(max(freq_list), 3)\n",
    "    a_res = round(a_list[np.argmax(freq_list)], 3)\n",
    "\n",
    "    return a_list, freq_list, a_res, max_freq"
   ]
  },
  {
   "cell_type": "markdown",
   "metadata": {},
   "source": [
    "### Running the simulation and printing the results"
   ]
  },
  {
   "cell_type": "code",
   "execution_count": 10,
   "metadata": {},
   "outputs": [
    {
     "name": "stdout",
     "output_type": "stream",
     "text": [
      "\n",
      "Evaluation qubits = 4\n",
      "            Shots = 100\n",
      " Initial choice p = 0.3\n",
      "\n",
      " Estimated result = 0.309\n",
      "       Difference = 0.009\n",
      "     Oracle calls = 3100\n"
     ]
    }
   ],
   "source": [
    "#Running\n",
    "qc = Build_circuit_canonical(m_qbit_eval, p_initial)\n",
    "\n",
    "job = execute(qc, backend_simulator, shots=shot_amount_canonical, optimization_level=3, circuit_duration_check=False)\n",
    "\n",
    "counts = job.result().get_counts()\n",
    "amps, frequencies, a_result, a_frequency = postprocessing(m_qbit_eval, counts, shot_amount_canonical)\n",
    "\n",
    "queries = 1\n",
    "for i in range(m_qbit_eval):\n",
    "    queries += 2*(2**i)\n",
    "\n",
    "print()\n",
    "print(f\"Evaluation qubits = {m_qbit_eval}\")\n",
    "print(f\"            Shots = {shot_amount_canonical}\")\n",
    "print(f\" Initial choice p = {p_initial}\")\n",
    "print()\n",
    "print(f' Estimated result = {a_result}')\n",
    "print(f\"       Difference = {round(a_result - p_initial, 3)}\")\n",
    "#print(f\"With frequency f = {a_frequency}\")\n",
    "print(f\"     Oracle calls = {shot_amount_canonical*queries}\")"
   ]
  },
  {
   "cell_type": "code",
   "execution_count": 11,
   "metadata": {},
   "outputs": [
    {
     "data": {
      "image/png": "[encoded data removed]",
      "text/plain": [
       "<Figure size 1417.1x535.111 with 1 Axes>"
      ]
     },
     "execution_count": 11,
     "metadata": {},
     "output_type": "execute_result"
    }
   ],
   "source": [
    "qc.draw('mpl', style=\"clifford\")"
   ]
  },
  {
   "cell_type": "markdown",
   "metadata": {},
   "source": [
    "# Maximum Likelihood Quantum Amplitude Estimation (MLQAE)"
   ]
  },
  {
   "cell_type": "markdown",
   "metadata": {},
   "source": [
    "In the MLQAE, we run multiple circuits, comprised of $A$ and different powers of $Q$. Only the objective qubit is measured, and the post processing is done for the number of hits (measured good states). As the MLQAE does not use controlled $Q$-gates, the amount of CNOT gates is much smaller that in the canonical QAE.\n",
    "\n",
    "First we import suitable library for minimizing functions."
   ]
  },
  {
   "cell_type": "code",
   "execution_count": 12,
   "metadata": {},
   "outputs": [],
   "source": [
    "from scipy import optimize"
   ]
  },
  {
   "cell_type": "markdown",
   "metadata": {},
   "source": [
    "### Parameters\n",
    "\n",
    "The additional parameters required by MLQAE\n",
    "\n",
    "1) Number of different grovere iterations given by `grover_amount`\n",
    "\n",
    "2) Shots for each circuit, given by $N=$`shot_amount_mlqae`"
   ]
  },
  {
   "cell_type": "code",
   "execution_count": 13,
   "metadata": {},
   "outputs": [],
   "source": [
    "grover_amount = 5\n",
    "shot_amount_mlqae = 50\n",
    "\n",
    "#Exponential or linear Grover scheme\n",
    "#grover_list = [0] + [2**x for x in range(grover_amount-1)]\n",
    "grover_list = [0] + [x for x in range(1, grover_amount)]\n",
    "\n",
    "shot_list = [shot_amount_mlqae for i in range(len(grover_list))]"
   ]
  },
  {
   "cell_type": "markdown",
   "metadata": {},
   "source": [
    "### Building and simulation of the circuits\n",
    "\n",
    "Using the same gates as in canonical QAE, the function returns a list of circuits with different iterations of Grover operators."
   ]
  },
  {
   "cell_type": "code",
   "execution_count": 14,
   "metadata": {},
   "outputs": [],
   "source": [
    "def Build_circuits_MLQAE(grovers, p):\n",
    "    qcs = []\n",
    "    A = Build_A(p)\n",
    "    for i in range(len(grovers)):\n",
    "        req_obj = QuantumRegister(1, 'obj')\n",
    "        req_classical = ClassicalRegister(1, 'c')\n",
    "        circ = QuantumCircuit(req_obj, req_classical)\n",
    "        circ.append(A, req_obj)\n",
    "        circ.barrier()\n",
    "        Q = Build_Q_powers(p, grovers[i]).to_gate(label=f\"  $Q^{str(2**(i))}$  \")\n",
    "        #Q = Build_Q_powers(p, grovers[i]).to_gate(label='  $Q^m$  ')\n",
    "        circ.append(Q, req_obj)\n",
    "        circ.barrier()\n",
    "        circ.measure(req_obj, req_classical)\n",
    "        qcs.append(circ)\n",
    "    return qcs"
   ]
  },
  {
   "cell_type": "markdown",
   "metadata": {},
   "source": [
    "The objective qubit in each circuit is measured, and the number of measured good states for each circuit is saved."
   ]
  },
  {
   "cell_type": "code",
   "execution_count": 15,
   "metadata": {},
   "outputs": [],
   "source": [
    "def simulator_MLQAE(qcs, shots, backend):\n",
    "    hits = []\n",
    "    job = execute(qcs, backend=backend, shots=shots, optimization_level=3, circuit_duration_check=False)\n",
    "    counts = job.result().get_counts()\n",
    "    for i in range(len(counts)):\n",
    "        hits.append(counts[i].get(\"1\",0))\n",
    "    return hits"
   ]
  },
  {
   "cell_type": "markdown",
   "metadata": {},
   "source": [
    "### Postprocessing: Maximum likelihood estimation\n",
    "\n",
    "For the circuit number $k$, let\n",
    "\n",
    "1) $g_k$ be the amount of Grover operators,\n",
    "\n",
    "2) $h_k$ be the amount of measured good states,\n",
    "\n",
    "3) $N_k$ be the amount of shots. \n",
    "\n",
    "For measuring the single qubit, the possible results are either $0$ or $1$. For this probabilistic event, the logarithmic likelihood function can be written as\n",
    "$$ L_K(h_k;\\theta_a) = h_k\\ln \\big( \\sin^2[(2m_k + 1)\\theta_a] \\big) + (N_k-h_k)\\ln \\big( \\cos^2[(2m_k + 1)\\theta_a] \\big). $$\n",
    "\n",
    "For all the circuits, the total likelihood function is then\n",
    "$$ L(\\textbf{h}, \\theta_a) = \\prod_{k=0}^{M}L_K(h_k;\\theta_a) $$\n",
    "\n",
    "The goal is to maximize the total likelihood function for $\\theta_a$\n",
    "$$ \\hat{\\theta}_a = \\text{argmax}_{\\theta_a} L(\\textbf{h}, \\theta_a), $$\n",
    "\n",
    "so that $\\hat{\\theta_a}$ can be the used to estimate the amplitude\n",
    "$$ \\hat{a} = \\sin^2(\\hat{\\theta_a}) $$\n"
   ]
  },
  {
   "cell_type": "code",
   "execution_count": 16,
   "metadata": {},
   "outputs": [],
   "source": [
    "def loglikelihood(theta, g, hits, grovers, shots):\n",
    "    value = 0.0\n",
    "    for i in range(g + 1):\n",
    "        arg = (2*grovers[i] + 1) * theta\n",
    "        value += hits[i]*np.log(np.sin(arg)**2) + (shots[i] - hits[i])*np.log(np.cos(arg)**2)\n",
    "        #The factor -1 as we want to maximize the function\n",
    "    return -1*value"
   ]
  },
  {
   "cell_type": "markdown",
   "metadata": {},
   "source": [
    "To make MLQAE faster than the classical algorithm, one needs to limit the oracle calls given by \n",
    "$$N_\\text{oracle} = \\sum_{k=0}^{M} N_k(2m_k + 1)$$\n",
    "\n",
    "This advantage is achieved with the use of Fischer information\n",
    "$$ \\mathcal{F}(a) = \\mathbb{E} \\bigg[ \\bigg( \\frac{\\partial L(\\textbf{h}, a) }{\\partial a} \\bigg)^2 \\bigg] = \\frac{1}{a(1-a)} \\sum_{k=0}^{M} N_k (2m_k + 1)^2. $$\n",
    "The Fischer information measures the amount of information that the observable random variable (measurements) carry about the unknown paramater (amplitude $\\hat{a}$ of the good state).\n",
    "\n",
    "The Fischer information satisfies the Cramer Rao inequality\n",
    "$$ \\text{var}(\\hat{a}) = \\mathbb{E}[(\\hat{a} - \\mathbb{E}[\\hat{a}])^2] \\geqslant \\bigg(1 + \\frac{\\partial \\mathbb{E}[\\hat{a} - a]}{\\partial a}\\bigg)^2/\\mathcal{F}(a), $$\n",
    "and consequently, the mean squared error\n",
    "$$  \\mathbb{E}[(\\hat{a} - a)^2] = \\text{var}(\\hat{a}) + \\mathbb{E}[\\hat{a} - a]^2 \n",
    "\\geqslant \\bigg(1 + \\frac{\\partial \\mathbb{E}[\\hat{a} - a]}{\\partial a}\\bigg)^2/\\mathcal{F}(a) + \\mathbb{E}[\\hat{a} - a]^2 $$\n",
    "\n",
    "With sufficient amount of measurements, the estimator $\\hat{\\theta}$ becomes unbiased, meaning it matches the actual measured values, thus $ \\mathbb{E}[\\hat{a} - a] \\rightarrow 0 $.\n",
    "By writing the error as $ \\hat{\\epsilon} = \\sqrt{\\mathbb{E}[(\\hat{a} - a)^2]} $, we can clearly write lower bound for the error\n",
    "\n",
    "$$ \\hat{\\epsilon} = \\frac{1}{\\sqrt{\\mathcal{F}(a)}} = \\sqrt{\\frac{a(1-a)}{\\sum_{k=0}^{M} N_k (2m_k + 1)^2}} \\geqslant \\frac{\\sqrt{a(1-a)}}{N_\\text{oracle}} $$\n",
    "\n",
    "If we compare this to the classical case, where no Grover operators are applied, and set $m_k = 0$, the same error rate would become \n",
    "$$\\hat{\\epsilon} \\geqslant \\sqrt{a(1-a)/N_\\text{oracle}}.$$\n",
    "\n",
    "Clearly we, see the error scales in quantum case $\\mathcal{O}(N_\\text{oracle}^{-1})$, versus $\\mathcal{O}(N_\\text{oracle}^{-1/2})$ in classical case. This translates to the quadratic speed-up gained with quantum algorithm."
   ]
  },
  {
   "cell_type": "code",
   "execution_count": 17,
   "metadata": {},
   "outputs": [],
   "source": [
    "def error_rate(N, grovers, shots, p0):\n",
    "    Fischer = 0.0\n",
    "    for i in range(N+1):\n",
    "        Fischer += shots[i]/(p0*(1 - p0)) * (2*grovers[i] + 1)**2\n",
    "    error = np.sqrt(1/Fischer)\n",
    "    return error"
   ]
  },
  {
   "cell_type": "markdown",
   "metadata": {},
   "source": [
    "In the implementation of the maximum likehood estimation, we use the brute force search from `scipy.optimization` to minimize (or actually maximize) the likelihood function. After each circuit, the search range for the parameters is adjusted based on the Cramer-Rao bound."
   ]
  },
  {
   "cell_type": "code",
   "execution_count": 18,
   "metadata": {},
   "outputs": [],
   "source": [
    "def ml_estimation(hits, grovers, shots):\n",
    "    thetas = []\n",
    "    #Small parameter to avoid dividing with zero\n",
    "    epsilon = 10**-15\n",
    "    #Adjusting confidence affects the search ranges when minimizing he function\n",
    "    confindence = 1\n",
    "    range_min = 0.0 + epsilon\n",
    "    range_max = pi/2 - epsilon\n",
    "    for g in range(len(grovers)):\n",
    "        searchRange = (range_min, range_max)\n",
    "        r = optimize.brute(lambda x: loglikelihood(x, g, hits, grovers, shots), [searchRange], finish=None)\n",
    "        theta0 = r\n",
    "        thetas.append(theta0)\n",
    "        p0 = np.sin(theta0)**2\n",
    "        p_error = error_rate(g, grovers, shots, p0)\n",
    "        theta_error = np.arcsin(np.sqrt(p_error))\n",
    "        range_min = max(theta0 - confindence*theta_error , 0.0 + epsilon)\n",
    "        range_max = min(theta0 + confindence*theta_error , pi/2 - epsilon)\n",
    "    return thetas"
   ]
  },
  {
   "cell_type": "markdown",
   "metadata": {},
   "source": [
    "Number of oracle calls in the algorthm is given by\n",
    "$$ N_{\\text{oracle}} =  \\sum_k N_k (2m_k + 1) $$"
   ]
  },
  {
   "cell_type": "code",
   "execution_count": 19,
   "metadata": {},
   "outputs": [],
   "source": [
    "def Oracle_Calls(N, grovers, shots):\n",
    "    value = 0\n",
    "    for i in range(N+1):\n",
    "        value += shots[i]*(2*grovers[i] + 1)\n",
    "    return value"
   ]
  },
  {
   "cell_type": "markdown",
   "metadata": {},
   "source": [
    "### Running the simulation and printing the results"
   ]
  },
  {
   "cell_type": "code",
   "execution_count": 20,
   "metadata": {},
   "outputs": [
    {
     "name": "stdout",
     "output_type": "stream",
     "text": [
      "\n",
      " Amount of shots = 50\n",
      "   Grover scheme = [0, 1, 2, 3, 4]\n",
      "Initial choice p = 0.3\n",
      "\n",
      "   Hits: [12, 47, 4, 31, 33]\n",
      " Thetas: [0.49604094530365184, 0.4572351110842262, 0.5766770136750431, 0.5821885114573242, 0.5866244235983527]\n",
      "Results: [0.22652592 0.19489481 0.29728814 0.30233858 0.30642087]\n",
      "\n",
      "Estimated amplitude = 0.306\n",
      "         Difference = 0.006\n",
      "       Oracle calls = 1250\n"
     ]
    }
   ],
   "source": [
    "qcs = Build_circuits_MLQAE(grover_list, p_initial)\n",
    "hitlist = simulator_MLQAE(qcs, shot_amount_mlqae, backend_simulator)\n",
    "thetas = ml_estimation(hitlist, grover_list, shot_list)\n",
    "amps = np.sin(thetas)**2\n",
    "\n",
    "print()\n",
    "print(f\" Amount of shots = {shot_amount_mlqae}\")\n",
    "print(f\"   Grover scheme = {grover_list}\")\n",
    "print(f\"Initial choice p = {p_initial}\")\n",
    "print()\n",
    "print(f\"   Hits: {hitlist}\")\n",
    "print(f\" Thetas: {thetas}\")\n",
    "print(f\"Results: {amps}\")\n",
    "print()\n",
    "print(f\"Estimated amplitude = {round(amps[-1], 3)}\")\n",
    "print(f\"         Difference = {round(amps[-1] - p_initial, 3)}\")\n",
    "print(f\"       Oracle calls = {Oracle_Calls(grover_amount-1, grover_list, shot_list)}\")"
   ]
  },
  {
   "cell_type": "code",
   "execution_count": 21,
   "metadata": {},
   "outputs": [
    {
     "data": {
      "image/png": "[encoded data removed]",
      "text/plain": [
       "<Figure size 545.935x200.667 with 1 Axes>"
      ]
     },
     "execution_count": 21,
     "metadata": {},
     "output_type": "execute_result"
    }
   ],
   "source": [
    "qcs[1].draw('mpl', style=\"clifford\")"
   ]
  }
 ],
 "metadata": {
  "kernelspec": {
   "display_name": "Python 3 (ipykernel)",
   "language": "python",
   "name": "python3"
  },
  "language_info": {
   "codemirror_mode": {
    "name": "ipython",
    "version": 3
   },
   "file_extension": ".py",
   "mimetype": "text/x-python",
   "name": "python",
   "nbconvert_exporter": "python",
   "pygments_lexer": "ipython3",
   "version": "3.10.10"
  }
 },
 "nbformat": 4,
 "nbformat_minor": 4
}
