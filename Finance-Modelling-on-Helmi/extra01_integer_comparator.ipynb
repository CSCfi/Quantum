{
 "cells": [
  {
   "cell_type": "markdown",
   "metadata": {},
   "source": [
    "Based on the\n",
    "\n",
    "[1]: Option Pricing using Quantum Computers, N. Stamatopoulos et al., 2000, https://arxiv.org/abs/1905.02666\n",
    "\n",
    "[2]: A new quantum ripple-carry addition circuit, S. A. Cuccaro et al., 2008, https://arxiv.org/abs/quant-ph/0410184\n",
    "***"
   ]
  },
  {
   "cell_type": "markdown",
   "metadata": {},
   "source": [
    "# Integer comparison using quantum circuit\n",
    "\n",
    "This notebook features a quantum circuit that can be used to compare two integers. The comparator circuit takes input value $C$, and compares it to value $N$ encoded into qubit register. The result of comparison is encoded into the single comparison qubit, 0 if $N \\leqslant C$ and 1 if $N > C$. "
   ]
  },
  {
   "cell_type": "markdown",
   "metadata": {},
   "source": [
    "### Imports"
   ]
  },
  {
   "cell_type": "code",
   "execution_count": 1,
   "metadata": {},
   "outputs": [],
   "source": [
    "import numpy as np\n",
    "\n",
    "from qiskit import QuantumCircuit, QuantumRegister, ClassicalRegister, execute\n",
    "\n",
    "pi=np.pi"
   ]
  },
  {
   "cell_type": "markdown",
   "metadata": {},
   "source": [
    "### Choosing backend simulator\n",
    "\n",
    "Can be run on\n",
    "\n",
    "1) Noise-free simulators, such as Qiskit Aer.\n",
    "2) Noisy simulators, for example IQMFakeAdonis with noise profile correspoding to Helmi Quantum computer. (Amount of available qubits limited by the choice of noise profile)\n",
    "3) On real quantum computer, such as Helmi. Note that this requires access to the quantum computer. (Qubits again limited by the choice of hardware)\n",
    "\n",
    "Backends used in this notebook are chosen in the cell below."
   ]
  },
  {
   "cell_type": "code",
   "execution_count": 2,
   "metadata": {},
   "outputs": [],
   "source": [
    "from qiskit import Aer\n",
    "from iqm.qiskit_iqm import IQMFakeAdonis, IQMProvider\n",
    "import os\n",
    "\n",
    "\n",
    "#UNCOMMENT YOUR CHOICE OF BACKEND\n",
    "#Noiseless simulator----------------------------------------------\n",
    "#backend_simulator = Aer.get_backend('aer_simulator_statevector')\n",
    "#-----------------------------------------------------------------\n",
    "\n",
    "#Fake simulating Helmi--------------------------------------------\n",
    "#backend_simulator = IQMFakeAdonis()\n",
    "#-----------------------------------------------------------------\n",
    "\n",
    "#Helmi quantum computer (Requires connection)---------------------\n",
    "HELMI_CORTEX_URL = os.getenv('HELMI_CORTEX_URL')\n",
    "provider = IQMProvider(HELMI_CORTEX_URL)\n",
    "backend_simulator = provider.get_backend()\n",
    "#-----------------------------------------------------------------"
   ]
  },
  {
   "cell_type": "markdown",
   "metadata": {},
   "source": [
    "### Encode integer into the qubits\n",
    "\n",
    "The function takes an `number` and encodes it into the `m` qubits by flipping the qubit if the corresponding bit has a value 1. The qubits must be initially in a state $|0\\rangle$. Note that `bits` must be large enough for the binary representation. The number is rounded upwards if it's not integer."
   ]
  },
  {
   "cell_type": "code",
   "execution_count": 3,
   "metadata": {},
   "outputs": [],
   "source": [
    "def Encode_integer(m, number):\n",
    "    if np.floor(np.log2(number)) + 1 > m:\n",
    "         raise ValueError(f\"Not enough qubits ({m}) for this choice of integer ({number}) .\")\n",
    "    circ = QuantumCircuit(m)\n",
    "    binary = np.binary_repr(int(np.ceil(number)), m)\n",
    "    bits = [int(x) for x in reversed(binary)]\n",
    "    for i, k in enumerate(bits):\n",
    "        if (k == 1):\n",
    "            circ.x(i)\n",
    "    return circ"
   ]
  },
  {
   "cell_type": "markdown",
   "metadata": {},
   "source": [
    "### Twos complement\n",
    "\n",
    "Function for calculating binary representation of the twos complement of a number, represented with `bits` bits, and again returned in reversed order."
   ]
  },
  {
   "cell_type": "code",
   "execution_count": 4,
   "metadata": {},
   "outputs": [],
   "source": [
    "def Twos_complement(number, bits):\n",
    "    if np.floor(np.log2(number)) + 1 > bits:\n",
    "         raise ValueError(f\"Not enough qubits ({bits}) for this choice of integer ({number}) .\")\n",
    "    # np.binary_repr return the binary representaion of the twos complement of the input, if the input is negative\n",
    "    temp = np.binary_repr(-int(np.ceil(number)), bits)\n",
    "    value = []\n",
    "    for i in reversed(range(len(temp))):\n",
    "        if temp[i]=='1':\n",
    "            value.append(1)\n",
    "        else:\n",
    "            value.append(0)\n",
    "    return value"
   ]
  },
  {
   "cell_type": "markdown",
   "metadata": {},
   "source": [
    "### OR-gate\n",
    "\n",
    "Quantum simulated logical OR-gate. If either of the control qubits are in the $|1\\rangle$, the target qubit is set to state $|1\\rangle$"
   ]
  },
  {
   "cell_type": "code",
   "execution_count": 5,
   "metadata": {},
   "outputs": [
    {
     "data": {
      "image/png": "[encoded data removed]",
      "text/plain": [
       "<Figure size 371.107x284.278 with 1 Axes>"
      ]
     },
     "execution_count": 5,
     "metadata": {},
     "output_type": "execute_result"
    }
   ],
   "source": [
    "def Build_OR():\n",
    "    circ = QuantumCircuit(3)\n",
    "    circ.x(range(3))\n",
    "    circ.ccx(0,1,2)\n",
    "    circ.x(range(2))\n",
    "    return circ\n",
    "\n",
    "OR = Build_OR()\n",
    "\n",
    "OR.draw('mpl', style=\"clifford\")"
   ]
  },
  {
   "cell_type": "markdown",
   "metadata": {},
   "source": [
    "### Comparator circuit\n",
    "\n",
    "The linear depth comparator circuit performs bitwise comparison between qubit register and integer $C$.\n",
    "If the qubit register has size $m$, the circuit uses additional $m$ ancilla qubits, and one comparison qubit which holds the result. Note that it must be possible to represent $C$ using $m$ binary numbers.\n",
    "\n",
    "The comparison uses CNOT, Toffoli, and logical OR-gates. The exact structure of the circuit depends on the bitwise comparison of the integer $C$ and the qubit register.\n",
    "The result of the comparison ends up in the last ancilla qubit, from which it is encoded into the comparison qubit using the CNOT-gate. The ancillas are then uncomputed, which is required if this circuit is to be used as a part of any algorithms.\n",
    "\n",
    "The circuit is based on the ripple-carry approach. Further details of the implementation in [1] and [2].\n"
   ]
  },
  {
   "cell_type": "code",
   "execution_count": 6,
   "metadata": {},
   "outputs": [],
   "source": [
    "def Build_comparator(m, C):\n",
    "    OR = Build_OR().to_gate(label='OR')\n",
    "    circ = QuantumCircuit(m+m+1)\n",
    "    #C is compared to the positive number, so comparison is not necessary for negative C\n",
    "    if C <= 0:\n",
    "        circ.x(m+m)\n",
    "        return circ\n",
    "    t = Twos_complement(C, m)\n",
    "    #Encoding results of comparison into ancilla qubits\n",
    "    if t[0]==1:\n",
    "        circ.cx(0, m)\n",
    "    for i in range(1,m):\n",
    "        if t[i]==0:\n",
    "            circ.ccx(i, i+m-1, i+m)\n",
    "        else:\n",
    "            circ.append(OR, list((i, i+m-1, i+m)))\n",
    "    #Setting comparison qubit with CNOT-gate\n",
    "    circ.cx(m+m-1, m+m)\n",
    "    #Uncomputing ancillas\n",
    "    for i in reversed(range(1,m)):\n",
    "        if t[i]==0:\n",
    "            circ.ccx(i, i+m-1, i+m)\n",
    "        else:\n",
    "            circ.append(OR, list((i, i+m-1, i+m)))\n",
    "    if t[0]==1:\n",
    "        circ.cx(0, m)\n",
    "    return circ"
   ]
  },
  {
   "cell_type": "markdown",
   "metadata": {},
   "source": [
    "### Example\n",
    "\n",
    "Testing the circuit by comparing two integers. \n",
    "\n",
    "1) `m_qbits` is the size of the qubit register. Total qubits will be `2*m_qbits+1`\n",
    "2) `N` is the integer encoded into the qubit register\n",
    "3) `C` is the integer we compare the quit register"
   ]
  },
  {
   "cell_type": "code",
   "execution_count": 7,
   "metadata": {},
   "outputs": [],
   "source": [
    "m_qbits = 2     #Total qubits will be 2*m_qbits+1\n",
    "N = 3\n",
    "C = 2"
   ]
  },
  {
   "cell_type": "code",
   "execution_count": 8,
   "metadata": {},
   "outputs": [
    {
     "name": "stdout",
     "output_type": "stream",
     "text": [
      "\n",
      "N = 3\n",
      "C = 2\n",
      "Measured comparison qubit = 1\n",
      "\n",
      "Result: 3 is larger or equal to 2\n"
     ]
    }
   ],
   "source": [
    "q_req = QuantumRegister(m_qbits, 'q')\n",
    "anc_req = QuantumRegister(m_qbits, 'anc')\n",
    "cmp_req = QuantumRegister(1, 'cmp')\n",
    "classical_req = ClassicalRegister(1, 'classical')\n",
    "qc = QuantumCircuit(q_req, anc_req, cmp_req, classical_req)\n",
    "\n",
    "P = Encode_integer(m_qbits, N).to_gate(label='  P  ')\n",
    "comparator = Build_comparator(m_qbits, C).to_gate(label='  CMP  ')\n",
    "\n",
    "qc.append(P, q_req)\n",
    "qc.barrier()\n",
    "qc.append(comparator, range(2*m_qbits + 1))\n",
    "qc.barrier()\n",
    "qc.measure(cmp_req, classical_req)\n",
    "\n",
    "job = execute(qc, backend_simulator, shots=1)\n",
    "counts = job.result().get_counts()\n",
    "result = int(list(counts.keys())[0])\n",
    "\n",
    "print()\n",
    "print(f\"N = {N}\")\n",
    "print(f\"C = {C}\")\n",
    "print(f\"Measured comparison qubit = {result}\")\n",
    "print()\n",
    "if(result == 0):\n",
    "    print(f\"Result: {N} is smaller than {C}\")\n",
    "if(result == 1):\n",
    "    print(f\"Result: {N} is larger or equal to {C}\")"
   ]
  },
  {
   "cell_type": "code",
   "execution_count": 9,
   "metadata": {},
   "outputs": [
    {
     "data": {
      "image/png": "[encoded data removed]",
      "text/plain": [
       "<Figure size 790.868x535.111 with 1 Axes>"
      ]
     },
     "execution_count": 9,
     "metadata": {},
     "output_type": "execute_result"
    }
   ],
   "source": [
    "qc.decompose().draw('mpl', style=\"clifford\")"
   ]
  },
  {
   "cell_type": "markdown",
   "metadata": {},
   "source": [
    "For further use, note that the CNOT operation on the comparison qubit can be combined with two 'lowest' gates, which act on the last ancilla. Thus the comparison circuit can be implemented with $m-1$ ancillas."
   ]
  }
 ],
 "metadata": {
  "kernelspec": {
   "display_name": "Python 3 (ipykernel)",
   "language": "python",
   "name": "python3"
  },
  "language_info": {
   "codemirror_mode": {
    "name": "ipython",
    "version": 3
   },
   "file_extension": ".py",
   "mimetype": "text/x-python",
   "name": "python",
   "nbconvert_exporter": "python",
   "pygments_lexer": "ipython3",
   "version": "3.10.10"
  }
 },
 "nbformat": 4,
 "nbformat_minor": 4
}
