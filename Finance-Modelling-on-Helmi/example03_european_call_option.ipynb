{
 "cells": [
  {
   "cell_type": "markdown",
   "metadata": {},
   "source": [
    "Based on the\n",
    "\n",
    "[1]: Option Pricing using Quantum Computers, N. Stamatopoulos et al., 2000, https://arxiv.org/abs/1905.02666\n",
    "\n",
    "[2]: Qiskit Tutorials, https://qiskit.org/ecosystem/finance/tutorials/03_european_call_option_pricing.html\n",
    "\n",
    "***"
   ]
  },
  {
   "cell_type": "markdown",
   "metadata": {},
   "source": [
    "# European call option"
   ]
  },
  {
   "cell_type": "markdown",
   "metadata": {},
   "source": [
    "As defined in finance, an option is a contract which gives its holder a right but not obligation, to purchase/sell the specified financial asset for a certain strike price during a time period related to some specified date. \n",
    "\n",
    "European option is a type of an option, where the possible exhange of the assets must happen at the specified date, but not before. There are two types of an European options, call option for purchasing, and put option for selling. The payoffs for these are defined as\n",
    "\n",
    "1) Call option: $ \\text{max}\\{ (S - K),0 \\} $\n",
    "2) Put option: $ \\text{max}\\{ (K - S),0 \\}, $\n",
    "\n",
    "where $S$ is the spot price of the underlying asset, and $K$ is the strike price.\n",
    "\n",
    "In this notebook, we calculate the the European Call option, using the the Black-Scholes model. \n",
    "The BS-model assumes the underlaying asset price is described by the lognormal distribution, which takes parameters\n",
    "\n",
    "1) Interest rate: $r$\n",
    "2) Volatility: $V$\n",
    "3) Maturity period: $M$\n",
    "4) Initial asset price: $S_0$\n",
    "\n",
    "The probability density function of the the spot price can then be written as\n",
    "$$ P(S) = \\frac{1}{S\\sigma \\sqrt{2\\pi}}\\exp \\bigg[ -\\frac{(\\ln(S) - \\mu)^2}{2\\sigma^2} \\bigg], $$\n",
    "where\n",
    "1) Mean: $\\mu = (r - \\frac{V^2}{2})T + \\ln(S_0)$\n",
    "\n",
    "2) Standard deviation: $\\sigma = V\\sqrt{T}$.\n",
    "\n",
    "Classically, the Black_Scholes equation gives the European call option a price\n",
    "$$ C = SN(d_{+}) - K e^{-rT} N(d_{-}), $$\n",
    "where the cumulative normal distribution is \n",
    "$$ N(x) = \\frac{1}{\\sqrt{2\\pi}} \\int_{-\\infty}^{x} e^{-z^2/2}dz $$\n",
    "and the constants\n",
    "1) $d_+ = \\frac{1}{V\\sqrt{T}} \\big[ \\ln(\\frac{S_0}{K}) + (r + \\frac{V^2}{2})T \\big]$\n",
    "\n",
    "2) $d_- = \\frac{1}{V\\sqrt{T}} \\big[ \\ln(\\frac{S_0}{K}) - (r + \\frac{V^2}{2})T \\big]$\n",
    "\n",
    "Next we will compute the price of the option, first classically, using the Black_Scholes equation, and then using Quantum amplitude estimation."
   ]
  },
  {
   "cell_type": "markdown",
   "metadata": {},
   "source": [
    "# Preparing the asset price data"
   ]
  },
  {
   "cell_type": "markdown",
   "metadata": {},
   "source": [
    "### Imports"
   ]
  },
  {
   "cell_type": "code",
   "execution_count": 1,
   "metadata": {},
   "outputs": [
    {
     "name": "stdout",
     "output_type": "stream",
     "text": [
      "Defaulting to user installation because normal site-packages is not writeable\n",
      "Requirement already satisfied: pyarrow in /pfs/lustrep1/users/omukkula/.local/lib/python3.10/site-packages (15.0.1)\n",
      "Requirement already satisfied: numpy<2,>=1.16.6 in /LUMI_TYKKY_gq1bapB/miniconda/envs/env1/lib/python3.10/site-packages (from pyarrow) (1.26.3)\n"
     ]
    }
   ],
   "source": [
    "!pip install pyarrow   #Pandas dependencies\n",
    "\n",
    "import time\n",
    "import numpy as np\n",
    "import pandas as pd\n",
    "import matplotlib.pyplot as plt\n",
    "from scipy import optimize\n",
    "from math import erf\n",
    "\n",
    "from qiskit import QuantumCircuit, QuantumRegister, ClassicalRegister, execute\n",
    "from qiskit.extensions import UnitaryGate\n",
    "\n",
    "pi=np.pi"
   ]
  },
  {
   "cell_type": "markdown",
   "metadata": {},
   "source": [
    "### Setting the parameters"
   ]
  },
  {
   "cell_type": "code",
   "execution_count": 2,
   "metadata": {},
   "outputs": [],
   "source": [
    "#For random generated distribution\n",
    "random_seed_constant = 0\n",
    "distribution_size = 10000\n",
    "\n",
    "#The actual financial parameters\n",
    "initial_price = 10\n",
    "volatility = 1.5\n",
    "interest_rate = 0.5\n",
    "maturity_period = 50 / 365\n",
    "strike_price = 5"
   ]
  },
  {
   "cell_type": "markdown",
   "metadata": {},
   "source": [
    "### Generating lognormally distributed price data"
   ]
  },
  {
   "cell_type": "code",
   "execution_count": 3,
   "metadata": {},
   "outputs": [],
   "source": [
    "def spot_price(N, S, vol, r ,T):\n",
    "    mu = (r - 0.5*vol**2)*T + np.log(S)\n",
    "    sigma = vol*np.sqrt(T)\n",
    "    variance = (np.exp(sigma**2) - 1) * np.exp(2*mu + sigma**2)\n",
    "    np.random.seed(random_seed_constant)\n",
    "    dist = np.random.lognormal(mu, sigma, size = N)\n",
    "    return dist"
   ]
  },
  {
   "cell_type": "code",
   "execution_count": 4,
   "metadata": {},
   "outputs": [],
   "source": [
    "price_data = spot_price(distribution_size, initial_price, volatility, interest_rate, maturity_period)"
   ]
  },
  {
   "cell_type": "markdown",
   "metadata": {},
   "source": [
    "# Classical algorithm: Black-Scholes model\n",
    "\n",
    "Here we compute the classical result for the European call option, and save it for later comparison with the quantum result"
   ]
  },
  {
   "cell_type": "code",
   "execution_count": 5,
   "metadata": {},
   "outputs": [],
   "source": [
    "#Approximation of erf(x)\n",
    "def gauss_error_function(x):\n",
    "    value = erf(x)\n",
    "    return value\n",
    "\n",
    "#Probability density function for normal distribution\n",
    "def pdf(x):\n",
    "    value = np.exp(-x**2/2.0)/(np.sqrt(2*pi))\n",
    "    return value\n",
    "\n",
    "#Cumulative probability density function for normal distribution\n",
    "def cdf(x):\n",
    "    value = (gauss_error_function(x/np.sqrt(2)) + 1)/2\n",
    "    return value"
   ]
  },
  {
   "cell_type": "code",
   "execution_count": 6,
   "metadata": {},
   "outputs": [],
   "source": [
    "def get_d_plus(S, K, vol, r, T):\n",
    "    value = (np.log(S/K) + (r + 0.5*vol**2)*T)/(vol*np.sqrt(T))\n",
    "    return value\n",
    "\n",
    "def get_d_minus(S, K, vol, r, T):\n",
    "    value = (np.log(S/K) + (r - 0.5*vol**2)*T)/(vol*np.sqrt(T))\n",
    "    return value\n",
    "\n",
    "#Call option\n",
    "def European_call(S, K, vol, r, T):\n",
    "    d1 = get_d_plus(S, K, vol, r, T)\n",
    "    d2 = get_d_minus(S, K, vol, r, T)\n",
    "    price = S*cdf(d1) - K*np.exp(-r*T)*cdf(d2)\n",
    "    return price\n",
    "\n",
    "#Put options\n",
    "def European_put(S, K, vol, r, T):\n",
    "    d1 = get_d_plus(S, K, vol, r, T)\n",
    "    d2 = get_d_minus(S, K, vol, r, T)\n",
    "    price = K*np.exp(-S*T)*cdf(-d2) - S*cdf(-d1)\n",
    "    return price"
   ]
  },
  {
   "cell_type": "code",
   "execution_count": 7,
   "metadata": {},
   "outputs": [
    {
     "name": "stdout",
     "output_type": "stream",
     "text": [
      "Classical result = 5.474989509657585\n"
     ]
    }
   ],
   "source": [
    "classical_result = European_call(initial_price, strike_price, volatility, interest_rate, maturity_period)\n",
    "print(f\"Classical result = {classical_result}\")"
   ]
  },
  {
   "cell_type": "markdown",
   "metadata": {},
   "source": [
    "# Quantum algorithm\n",
    "\n",
    "We implement the Quantum amplitude estimation using the Maximum Likelihood Quantum Amplitude Estimation (MLQAE)."
   ]
  },
  {
   "cell_type": "markdown",
   "metadata": {},
   "source": [
    "### Choosing backend simulator\n",
    "\n",
    "Can be run on\n",
    "\n",
    "1) Noise-free simulators, such as Qiskit Aer.\n",
    "2) Noisy simulators, for example IQMFakeAdonis with noise profile correspoding to Helmi Quantum computer. (Amount of available qubits limited by the choice of noise profile)\n",
    "3) On real quantum computer, such as Helmi. Note that this requires access to the quantum computer. (Qubits again limited by the choice of hardware)\n",
    "\n",
    "Backends used in this notebook are chosen in the cell below."
   ]
  },
  {
   "cell_type": "code",
   "execution_count": 8,
   "metadata": {},
   "outputs": [],
   "source": [
    "from qiskit import Aer\n",
    "from iqm.qiskit_iqm import IQMFakeAdonis, IQMProvider\n",
    "import os\n",
    "\n",
    "\n",
    "#UNCOMMENT YOUR CHOICE OF BACKEND\n",
    "#Noiseless simulator----------------------------------------------\n",
    "#backend_simulator = Aer.get_backend('aer_simulator_statevector')\n",
    "#-----------------------------------------------------------------\n",
    "\n",
    "#Fake simulating Helmi--------------------------------------------\n",
    "#backend_simulator = IQMFakeAdonis()\n",
    "#-----------------------------------------------------------------\n",
    "\n",
    "#Helmi quantum computer (Requires connection)---------------------\n",
    "HELMI_CORTEX_URL = os.getenv('HELMI_CORTEX_URL')\n",
    "provider = IQMProvider(HELMI_CORTEX_URL)\n",
    "backend_simulator = provider.get_backend()\n",
    "#-----------------------------------------------------------------"
   ]
  },
  {
   "cell_type": "markdown",
   "metadata": {},
   "source": [
    "### Parameters for the quantum algorithm\n",
    "\n",
    "1) The amount of qubits `m_qbits` used for the encoding of the spot price $S$. Total qubits used will be `2*m_qbits + 1`\n",
    "\n",
    "2) Number of the different Grover iterations `grover_amount`\n",
    "\n",
    "3) Number of shots `shot_amount` for each circuit\n",
    "\n",
    "4) Rescaling parameter `c_rescale`"
   ]
  },
  {
   "cell_type": "code",
   "execution_count": 9,
   "metadata": {},
   "outputs": [],
   "source": [
    "m_qbits = 2        #Must be larger than 1, uses total of 2*m_qbits+1\n",
    "grover_amount = 4\n",
    "shot_amount = 100\n",
    "c_rescale = 0.25    #Adjust for accuracy\n",
    "\n",
    "#Exponential or linear Grover scheme\n",
    "#grover_list = [0] + [2**x for x in range(grover_amount-1)]\n",
    "grover_list = [0] + [x for x in range(1, grover_amount)]\n",
    "\n",
    "shot_list = [shot_amount for i in range(len(grover_list))]"
   ]
  },
  {
   "cell_type": "markdown",
   "metadata": {},
   "source": [
    "### Preparation"
   ]
  },
  {
   "cell_type": "markdown",
   "metadata": {},
   "source": [
    "For the suitable linear fit to the lognormal distribution, we choose the domain based on the mean and standard deviation. This domain is mapped into the piecewise linear function with image dependent on the the strike price, which also serves as the breakpoint."
   ]
  },
  {
   "cell_type": "code",
   "execution_count": 10,
   "metadata": {},
   "outputs": [],
   "source": [
    "def get_domain_and_image(dist, K):\n",
    "    mean_value = np.mean(dist)\n",
    "    stddev = np.std(dist)\n",
    "    confidence = 3\n",
    "    low = np.maximum(0, mean_value - confidence*stddev)\n",
    "    high = mean_value + confidence*stddev\n",
    "    domain = [low, high]\n",
    "    image = [0, high - K]\n",
    "    breaks = [low, K]\n",
    "    return domain, image, breaks"
   ]
  },
  {
   "cell_type": "markdown",
   "metadata": {},
   "source": [
    "Function for data binning"
   ]
  },
  {
   "cell_type": "code",
   "execution_count": 11,
   "metadata": {},
   "outputs": [],
   "source": [
    "def binning(dist, m, bin_low, bin_high):\n",
    "    N_bins = 2**m\n",
    "    df = pd.DataFrame(dist)\n",
    "    bins = np.linspace(bin_low, bin_high, N_bins+1, endpoint=True)\n",
    "    df['bins'] = pd.cut(df[0], bins, right=True, include_lowest=True)\n",
    "    grouped = pd.cut(df[0], bins=bins).value_counts()\n",
    "    grouped = df.groupby(pd.cut(df[0], bins=bins, right=True), observed=False).size()\n",
    "    total = grouped.sum()\n",
    "    values_normed = []\n",
    "    for key, value in list(grouped.items()):\n",
    "        values_normed.append(value/total)\n",
    "    return bins, values_normed"
   ]
  },
  {
   "cell_type": "markdown",
   "metadata": {},
   "source": [
    "Helper functions used to visualize the spot proce and the payoff"
   ]
  },
  {
   "cell_type": "code",
   "execution_count": 12,
   "metadata": {},
   "outputs": [],
   "source": [
    "def linear_map(m, domain, ind):\n",
    "    a, b = domain\n",
    "    return a + (b - a)/(2**m - 1)*ind\n",
    "\n",
    "def get_payoff_function(m, domain, breaks, ind):\n",
    "    theta_x = linear_map(m, domain, ind)\n",
    "    value = 0\n",
    "    offsets = [0,0]\n",
    "    slopes = [0,1]\n",
    "    for i in range(len(breaks)):\n",
    "        if theta_x >= breaks[i]:\n",
    "            temp = slopes[i]*(theta_x- breaks[1]) + offsets[i]\n",
    "        else:\n",
    "            temp = 0\n",
    "        value += temp\n",
    "    return value\n",
    "\n",
    "def get_scaled_payoff(image, f):\n",
    "    c, d = image\n",
    "    return (f - c)/(d - c)"
   ]
  },
  {
   "cell_type": "markdown",
   "metadata": {},
   "source": [
    "Plotting spot price, linear fit, binned data, and payoff function. The payoff is described by the piecewise linear function, with a breakpoint at the strike price."
   ]
  },
  {
   "cell_type": "code",
   "execution_count": 13,
   "metadata": {},
   "outputs": [
    {
     "name": "stdout",
     "output_type": "stream",
     "text": [
      "      Domain = [0.0, 29.4066352932414]\n",
      "       Image = [0, 24.4066352932414]\n",
      " Breakpoints = [0.0, 5]\n"
     ]
    },
    {
     "data": {
      "image/png": "[encoded data removed]",
      "text/plain": [
       "<Figure size 2000x1000 with 4 Axes>"
      ]
     },
     "metadata": {},
     "output_type": "display_data"
    }
   ],
   "source": [
    "price_domain, price_image, price_breaks = get_domain_and_image(price_data, strike_price)\n",
    "price_bins, price_probs = binning(price_data, m_qbits, price_domain[0], price_domain[1])\n",
    "print(f\"      Domain = [{price_domain[0]}, {price_domain[1]}]\")\n",
    "print(f\"       Image = [{price_image[0]}, {price_image[1]}]\")\n",
    "print(f\" Breakpoints = [{price_breaks[0]}, {price_breaks[1]}]\")\n",
    "\n",
    "#print(price_bins)\n",
    "#print(price_probs)\n",
    "\n",
    "mapped_price = [linear_map(m_qbits, price_domain, x) for x in range(2**m_qbits)]\n",
    "payoff = [get_payoff_function(m_qbits, price_domain, [0, strike_price], x) for x in range(2**m_qbits)]\n",
    "scaled_payoff = [get_scaled_payoff(price_image, f) for f in payoff]\n",
    "\n",
    "rows = 2\n",
    "cols = 2\n",
    "fig, axs = plt.subplots(rows, cols)\n",
    "fig.set_figwidth(20)\n",
    "fig.set_figheight(10)\n",
    "\n",
    "axs[0][0].plot(np.linspace(0, 2**m_qbits-1, len(price_data)), sorted(price_data), color='green', label='Price')\n",
    "axs[0][0].plot(range(0, 2**m_qbits), mapped_price, color='tab:blue', label='Mapped Price')\n",
    "\n",
    "axs[0][1].hist(price_data, price_bins, color='tab:blue', label='Mapped Price bins', ec = 'black')\n",
    "\n",
    "axs[1][0].plot(mapped_price, payoff, color='tab:blue', label='Payoff')\n",
    "axs[1][0].axvline(strike_price, color='black', linestyle='dashed', label='Strike price')\n",
    "\n",
    "axs[1][1].plot(mapped_price, scaled_payoff, color='red', label='Scaled payoff')\n",
    "\n",
    "axs[0][0].set_xlabel('$i \\\\in \\\\{0,...,2^m - 1 \\\\}$')\n",
    "axs[0][1].set_xlabel('Mapped Price')\n",
    "axs[1][0].set_xlabel('Mapped Price')\n",
    "axs[1][0].set_xlabel('Mapped Price')\n",
    "axs[1][1].set_xlabel('Mapped Price')\n",
    "\n",
    "axs[0][1].set_ylabel('Frequency')\n",
    "\n",
    "for i in range(rows):\n",
    "    for j in range(cols):\n",
    "        axs[i][j].grid()\n",
    "        axs[i][j].legend()\n",
    "plt.show()"
   ]
  },
  {
   "cell_type": "markdown",
   "metadata": {},
   "source": [
    "### Mapping\n",
    "Lets denote\n",
    "\n",
    "1) Domain: $[a,b]$\n",
    "2) Image: $[c,d]$\n",
    "3) Breakpoint: $K$\n",
    "\n",
    "The goal is to design a map according to the call option payoff $ \\text{max}\\{ (S - K),0 \\} $\n",
    "We first consider linear map\n",
    "$$ f(i) = \\frac{b-a}{2^m - 1}i + a. $$\n",
    "\n",
    "The slope of the payoff function depends on the comparison of the spot price and the strike price. As a result, we have a piecewise function\n",
    "$$ f_K(i) = \\frac{b - a}{2^m - 1} + a-K \\qquad \\text{for } f(i) \\geqslant K  \\text{, and zero otherwise}. $$\n",
    "The piecewise function is then scaled according to\n",
    "$$ \\tilde{f}_K(i) = \\frac{f_K(i) - c}{d - c} \\in [0,1]. $$\n",
    "\n",
    "\n",
    "To define angles $g_0$ and $g_1$ for the Y-rotations, we use the rescaling\n",
    "$$ \\frac{\\pi c_r}{2}\\tilde{f}_K(i) + \\frac{\\pi}{4}(1 - c_r) = g_0 + g_1 i.$$\n",
    "\n",
    "The measured aplitude can then be approximated as\n",
    "$$ P_1 = \\sum_{i}p_i \\sin^2(g_0 + g_i i)  \\approx  \\sum_{i}p_i \\bigg[ \\frac{\\pi c_r}{2}\\tilde{f}_K(i) - \\frac{\\pi c_r}{4} + \\frac{1}{2}, \\bigg] $$\n",
    "from which the expected value can be solved"
   ]
  },
  {
   "cell_type": "code",
   "execution_count": 14,
   "metadata": {},
   "outputs": [],
   "source": [
    "def get_angles(m, domain, image, K, rescaling):\n",
    "    a, b = domain\n",
    "    c, d = image\n",
    "    slopes = np.zeros(2)\n",
    "    offsets = np.zeros(2)\n",
    "    g_0 = np.zeros(2)\n",
    "    g_1 = np.zeros(2)\n",
    "    #Slopes and offsets for the piecewise function\n",
    "    offsets[0] = 0\n",
    "    offsets[1] = K - a\n",
    "    slopes[0] = 0\n",
    "    slopes[1] = (b - a)/(2**m - 1)\n",
    "    #Scaling to [0,1]\n",
    "    for i in range(len(offsets)):\n",
    "        offsets[i] = (offsets[i] - c)/(d - c)\n",
    "        slopes[i] = (slopes[i] - c)/(d - c)\n",
    "    #Rescaling to get angles\n",
    "    for i in range(len(offsets)):\n",
    "        g_0[i] = pi/4*(1-rescaling) - pi/2*rescaling*offsets[i] - i*pi/4*(1-rescaling)\n",
    "        g_1[i] = pi/2*rescaling*slopes[i]\n",
    "    #Angles mutiplied by two for the Y-rotation\n",
    "    return 2*g_0, 2*g_1\n",
    "\n",
    "g0, g1 = get_angles(m_qbits, price_domain, price_image, strike_price, c_rescale)"
   ]
  },
  {
   "cell_type": "markdown",
   "metadata": {},
   "source": [
    "### Building gates\n",
    "\n",
    "First loading the asset price distribution"
   ]
  },
  {
   "cell_type": "code",
   "execution_count": 15,
   "metadata": {},
   "outputs": [],
   "source": [
    "#Functions for building circuit\n",
    "def Build_P(m, p_list):\n",
    "    matrix = np.identity(2**m)\n",
    "    for i, p in enumerate(p_list):\n",
    "        matrix[i][0] = np.sqrt(p)\n",
    "    dist_matrix = np.linalg.qr(matrix)[0]\n",
    "    dist_gate =  UnitaryGate(dist_matrix, label='  P  ')\n",
    "    circ = QuantumCircuit(m)\n",
    "    circ.append(dist_gate, list(range(m)))\n",
    "    return circ"
   ]
  },
  {
   "cell_type": "markdown",
   "metadata": {},
   "source": [
    "Comparator circuit for comparing the qubit register to the strike price. The result is encoded into the comparison qubit\n",
    "$$ |\\psi \\rangle_n |0\\rangle \\rightarrow \\sum_{i<K}\\sqrt{p_i}|i\\rangle_n |0\\rangle + \\sum_{i \\geqslant K}\\sqrt{p_i}|i\\rangle_n |1\\rangle $$"
   ]
  },
  {
   "cell_type": "code",
   "execution_count": 16,
   "metadata": {},
   "outputs": [],
   "source": [
    "def Twos_complement(number, bits):\n",
    "    if np.floor(np.log2(number)) + 1 > bits:\n",
    "         raise ValueError(f\"Not enough qubits ({bits}) for this choice of integer ({number}) .\")\n",
    "    temp = np.binary_repr(-int(np.ceil(number)), bits)\n",
    "    value = []\n",
    "    for i in reversed(range(len(temp))):\n",
    "        if temp[i]=='1':\n",
    "            value.append(1)\n",
    "        else:\n",
    "            value.append(0)\n",
    "    return value\n",
    "\n",
    "def Build_OR():\n",
    "    circ = QuantumCircuit(3)\n",
    "    circ.x(range(3))\n",
    "    circ.ccx(0,1,2)\n",
    "    circ.x(range(2))\n",
    "    return circ\n",
    "\n",
    "\n",
    "def Build_comparator(m, C):\n",
    "    if np.floor(np.log2(C)) + 1 > m:\n",
    "        raise ValueError('Not enough qubits for this choice of K.')\n",
    "    OR = Build_OR().to_gate(label='OR')\n",
    "    circ = QuantumCircuit(m+m)\n",
    "    if C <= 0:\n",
    "        circ.x(m+m)\n",
    "        return circ\n",
    "    t = Twos_complement(C, m)\n",
    "    #Encoding results of comparison into ancilla qubits\n",
    "    if t[0]==1:\n",
    "        circ.cx(0, m)\n",
    "    for i in range(1,m-1):\n",
    "        if t[i]==0:\n",
    "            circ.ccx(i, i+m-1, i+m)\n",
    "        else:\n",
    "            circ.append(OR, list((i, i+m-1, i+m)))\n",
    "    #Setting comparison qubit with CNOT-gate\n",
    "    if t[m-1] == 0:   \n",
    "        circ.ccx(m-1, m+m-2, m+m-1)\n",
    "    else:\n",
    "        circ.append(OR, list((m-1, m+m-2, m+m-1)))\n",
    "    #Uncomputing ancillas\n",
    "    for i in reversed(range(1,m-1)):\n",
    "        if t[i]==0:\n",
    "            circ.ccx(i, i+m-1, i+m)\n",
    "        else:\n",
    "            circ.append(OR, list((i, i+m-1, i+m)))\n",
    "    if t[0]==1:\n",
    "        circ.cx(0, m)\n",
    "    return circ"
   ]
  },
  {
   "cell_type": "markdown",
   "metadata": {},
   "source": [
    "If the slope of the payoff function is zero, it is enough to apply the rotation $R_y(g_0)$ on the objective qubit.\n",
    "\n",
    "For nonzero payoff, the rotations are controlled the qubit register holding the price distribution, and by the comparison qubit."
   ]
  },
  {
   "cell_type": "code",
   "execution_count": 17,
   "metadata": {},
   "outputs": [],
   "source": [
    "def Build_R(m, controlled, g_0, g_1):\n",
    "    if controlled == False:\n",
    "        circ = QuantumCircuit(m+2)\n",
    "        circ.ry(g_0[0], m+1)\n",
    "    else:\n",
    "        temp = QuantumCircuit(m+1)\n",
    "        circ = QuantumCircuit(m+2)\n",
    "        temp.ry(g_0[1], m)\n",
    "        for i in range(m):\n",
    "            angle = (2**i) * g_1[1]\n",
    "            temp.cry(angle, i, m)\n",
    "        controlled_R = temp.to_gate().control()\n",
    "        target = [m] + list(range(m)) + [m+1]\n",
    "        circ.append(controlled_R, target)\n",
    "    return circ"
   ]
  },
  {
   "cell_type": "markdown",
   "metadata": {},
   "source": [
    "$A$-gate consists of encoding the spot price, performing the comparison of price register and strike price, and applying piecewise rotations. As a whole, the operation represents the mapping\n",
    "$$ |\\psi \\rangle_n |0\\rangle \\rightarrow \\sum_{i<K}\\sqrt{p_i}|i\\rangle_n |0\\rangle \\big[ \\cos(g_0)|0\\rangle + \\sin(g_0)|1\\rangle \\big] \n",
    "+ \\sum_{i \\geqslant K}\\sqrt{p_i}|i\\rangle_n |1\\rangle \\big[ \\cos(g_0 + g(i))|0\\rangle + \\sin(g_0 + g(i))|1\\rangle \\big]  $$"
   ]
  },
  {
   "cell_type": "code",
   "execution_count": 18,
   "metadata": {},
   "outputs": [],
   "source": [
    "def Build_A(m, p_list, g_0, g_1, K):\n",
    "    P = Build_P(m, p_list)\n",
    "    R1 = Build_R(m, False, g_0, g_1)\n",
    "    R2 = Build_R(m, True, g_0, g_1)\n",
    "    C = Build_comparator(m, K).to_gate(label='  CMP  ')\n",
    "    C_inv = C.inverse()\n",
    "    circ = QuantumCircuit(m + m + 1)\n",
    "    circ.append(P, range(0 ,m))\n",
    "    circ.append(R1, list(range(0,m)) + list((m+m-1, m+m)))\n",
    "    circ.append(C, range(0, m+m))\n",
    "    circ.append(R2, list(range(0,m)) + list((m+m-1, m+m)))\n",
    "    circ.append(C_inv, range(0, m+m))\n",
    "    return circ\n"
   ]
  },
  {
   "cell_type": "markdown",
   "metadata": {},
   "source": [
    "Reflection operators"
   ]
  },
  {
   "cell_type": "code",
   "execution_count": 19,
   "metadata": {},
   "outputs": [],
   "source": [
    "def Build_S_0(m):\n",
    "    circ = QuantumCircuit(m+m+1)\n",
    "    circ.x(list(range(m)) + list(range(m+m, m+m+1)))\n",
    "    circ.h(m+m)\n",
    "    circ.mcx(list(range(0,m)), m+m)\n",
    "    circ.h(m+m)\n",
    "    circ.x(list(range(m)) + list(range(m+m, m+m+1)))\n",
    "    return circ.to_gate(label='  S0  ')\n",
    "\n",
    "def Build_S_psi0(m):\n",
    "    circ = QuantumCircuit(m+m+1)\n",
    "    circ.z(m+m)\n",
    "    return circ.to_gate(label='  S_psi  ')"
   ]
  },
  {
   "cell_type": "markdown",
   "metadata": {},
   "source": [
    "Grover operator $Q=AS_0A^{-1}S_{\\psi}$"
   ]
  },
  {
   "cell_type": "code",
   "execution_count": 20,
   "metadata": {},
   "outputs": [],
   "source": [
    "def Build_Q(m, A):\n",
    "    S_0 = Build_S_0(m)\n",
    "    S_psi = Build_S_psi0(m)\n",
    "    A_inv = A.inverse()\n",
    "    A_inv.label = '  A_inv  '\n",
    "    circ = QuantumCircuit(m + m + 1)\n",
    "    circ.append(S_psi, range(m + m + 1))\n",
    "    circ.barrier()\n",
    "    circ.append(A_inv, range(m + m + 1))\n",
    "    circ.barrier()\n",
    "    circ.append(S_0, range(m + m + 1))\n",
    "    circ.barrier()\n",
    "    circ.append(A, range(m + m + 1))\n",
    "    return circ"
   ]
  },
  {
   "cell_type": "markdown",
   "metadata": {},
   "source": [
    "### Building circuits and simulator"
   ]
  },
  {
   "cell_type": "code",
   "execution_count": 21,
   "metadata": {},
   "outputs": [],
   "source": [
    "def Build_circuits(grovers, m, p_list, g_0, g_1, K, domain):\n",
    "    qcs = []\n",
    "    a, b = domain\n",
    "    K = (K-a)/(b-a)*(2**m - 1)\n",
    "    A = Build_A(m, p_list, g_0, g_1, K).decompose().to_instruction(label='  A  ')\n",
    "    Q = Build_Q(m, A).to_instruction(label='  Q  ')\n",
    "    for g in range(len(grovers)):\n",
    "        req_dist = QuantumRegister(m, 'q')\n",
    "        req_anc = QuantumRegister(m-1, 'ancilla')\n",
    "        req_compare = QuantumRegister(1, 'compare')\n",
    "        req_obj = QuantumRegister(1, 'obj')\n",
    "        req_classical = ClassicalRegister(1, 'c')\n",
    "        circ = QuantumCircuit(req_dist, req_anc, req_compare, req_obj, req_classical)\n",
    "        circ.append(A, range(0, m+m+1))\n",
    "        circ.barrier()\n",
    "        for times in range(grovers[g]):\n",
    "            circ.append(Q, range(0, m+m+1))\n",
    "        circ.measure(req_obj, req_classical)\n",
    "        qcs.append(circ)\n",
    "    return qcs"
   ]
  },
  {
   "cell_type": "code",
   "execution_count": 22,
   "metadata": {},
   "outputs": [],
   "source": [
    "def simulator(qcs, shots, backend):\n",
    "    hits = []\n",
    "    for i in range(len(qcs)):\n",
    "        job = execute(qcs[i], backend=backend, shots=shots, optimization_level=3, circuit_duration_check=False)\n",
    "        counts = job.result().get_counts()\n",
    "        hits.append(counts.get(\"1\",0))\n",
    "    return hits"
   ]
  },
  {
   "cell_type": "markdown",
   "metadata": {},
   "source": [
    "### Postprocessing\n",
    "\n",
    "Performing maximum likelihood estimation"
   ]
  },
  {
   "cell_type": "code",
   "execution_count": 23,
   "metadata": {},
   "outputs": [],
   "source": [
    "def loglikelihood(theta, g, hits, grovers, shots):\n",
    "    value = 0.0\n",
    "    for i in range(g + 1):\n",
    "        arg = (2*grovers[i] + 1) * theta\n",
    "        value += hits[i]*np.log(np.sin(arg)**2) + (shots[i] - hits[i])*np.log(np.cos(arg)**2)\n",
    "        #The factor -1 as we want to maximize the function\n",
    "    return -1*value"
   ]
  },
  {
   "cell_type": "code",
   "execution_count": 24,
   "metadata": {},
   "outputs": [],
   "source": [
    "def error_rate(N, grovers, shots, p0):\n",
    "    Fischer = 0.0\n",
    "    for i in range(N+1):\n",
    "        Fischer += shots[i]/(p0*(1 - p0)) * (2*grovers[i] + 1)**2\n",
    "    error = np.sqrt(1/Fischer)\n",
    "    return error"
   ]
  },
  {
   "cell_type": "code",
   "execution_count": 25,
   "metadata": {},
   "outputs": [],
   "source": [
    "def ml_estimation(hits, grovers, shots):\n",
    "    thetas = []\n",
    "    #Small parameter to avoid dividing with zero\n",
    "    epsilon = 10**-15\n",
    "    #Adjusting affects the search ranges when minimizing he function\n",
    "    confindence = 1\n",
    "    range_min = 0.0 + epsilon\n",
    "    range_max = pi/2 - epsilon\n",
    "    for g in range(len(grovers)):\n",
    "        searchRange = (range_min, range_max)\n",
    "        r = optimize.brute(lambda x: loglikelihood(x, g, hits, grovers, shots), [searchRange], finish=None)\n",
    "        theta0 = r\n",
    "        thetas.append(theta0)\n",
    "        p0 = np.sin(theta0)**2\n",
    "        p_error = error_rate(g, grovers, shots, p0)\n",
    "        theta_error = np.arcsin(np.sqrt(p_error))\n",
    "        range_min = max(theta0 - confindence*theta_error , 0.0 + epsilon)\n",
    "        range_max = min(theta0 + confindence*theta_error , pi/2 - epsilon)\n",
    "    return thetas"
   ]
  },
  {
   "cell_type": "markdown",
   "metadata": {},
   "source": [
    "Expected value from the measured amplitude by reverting the mapping"
   ]
  },
  {
   "cell_type": "code",
   "execution_count": 26,
   "metadata": {},
   "outputs": [],
   "source": [
    "def Expected(a_tilde, image, rescaling):\n",
    "    c, d = image\n",
    "    scaled = (2/(pi*rescaling))*(a_tilde - 0.5 + pi*rescaling/4)\n",
    "    value = scaled*(d-c) + c\n",
    "    return value"
   ]
  },
  {
   "cell_type": "code",
   "execution_count": 27,
   "metadata": {},
   "outputs": [],
   "source": [
    "def Oracle_Calls(N, grovers, shots):\n",
    "    value = 0\n",
    "    for i in range(N+1):\n",
    "        value += shots[i]*(2*grovers[i] + 1)\n",
    "    return value"
   ]
  },
  {
   "cell_type": "markdown",
   "metadata": {},
   "source": [
    "### Running the simulation and printing the results"
   ]
  },
  {
   "cell_type": "code",
   "execution_count": 28,
   "metadata": {},
   "outputs": [
    {
     "name": "stdout",
     "output_type": "stream",
     "text": [
      "      Building time = 0.03148484230041504\n",
      "Postprocessing time = 0.0022325515747070312\n",
      "\n",
      "     Price qubits: 2\n",
      "     Total Qubits: 5\n",
      "Shots per circuit: 100\n",
      "    Grover scheme: [0, 1, 2, 3]\n",
      "\n",
      "           Hits: [33, 36, 39, 49]\n",
      "         Thetas: [0.5787144361875937, 0.7943648935152113, 0.774459594332207, 0.7793043950966531]\n",
      "   Amplitudes: : [0.29915229 0.50896625 0.4890623  0.49390638]\n",
      "Expected prices: [-0.27956579 12.7605789  11.52352902 11.82459331]\n",
      "\n",
      "  Classical result = 5.474989509657585\n",
      "    Quantum result = 11.824593311585252\n",
      "        Difference = 6.349603801927667\n",
      "Total Oracle calls = 1600\n"
     ]
    }
   ],
   "source": [
    "#Building circuits\n",
    "start = time.time()\n",
    "qcs = Build_circuits(grover_list, m_qbits, price_probs, g0, g1, strike_price, price_domain)\n",
    "end = time.time()\n",
    "print(f\"      Building time = {end - start}\")\n",
    "\n",
    "#Simulation\n",
    "start = time.time()\n",
    "hitlist = simulator(qcs, shot_amount, backend_simulator)\n",
    "\n",
    "#Postprocessing\n",
    "start = time.time()\n",
    "thetas = ml_estimation(hitlist, grover_list, shot_list)\n",
    "amps = np.sin(thetas)**2\n",
    "all_answers = Expected(amps, price_image, c_rescale)\n",
    "\n",
    "final_answer = all_answers[-1]\n",
    "end = time.time()\n",
    "print(f\"Postprocessing time = {end - start}\")\n",
    "print()\n",
    "\n",
    "#Printing results\n",
    "print(f\"     Price qubits: {m_qbits}\")\n",
    "print(f\"     Total Qubits: {2*m_qbits + 1}\")\n",
    "print(f\"Shots per circuit: {shot_amount}\")\n",
    "print(f\"    Grover scheme: {grover_list}\")\n",
    "print()\n",
    "print(f\"           Hits: {hitlist}\")\n",
    "print(f\"         Thetas: {thetas}\")\n",
    "print(f\"   Amplitudes: : {amps}\")\n",
    "print(f\"Expected prices: {all_answers}\")\n",
    "print()\n",
    "print(f\"  Classical result = {classical_result}\")\n",
    "print(f\"    Quantum result = {final_answer}\")\n",
    "print(f\"        Difference = {final_answer - classical_result}\")\n",
    "print(f\"Total Oracle calls = {Oracle_Calls(grover_amount-1, grover_list, shot_list)}\")"
   ]
  },
  {
   "cell_type": "code",
   "execution_count": 29,
   "metadata": {},
   "outputs": [
    {
     "data": {
      "image/png": "[encoded data removed]",
      "text/plain": [
       "<Figure size 2134.27x535.111 with 1 Axes>"
      ]
     },
     "execution_count": 29,
     "metadata": {},
     "output_type": "execute_result"
    }
   ],
   "source": [
    "qcs[1].decompose(reps=1).draw('mpl', style=\"clifford\")"
   ]
  }
 ],
 "metadata": {
  "kernelspec": {
   "display_name": "Python 3 (ipykernel)",
   "language": "python",
   "name": "python3"
  },
  "language_info": {
   "codemirror_mode": {
    "name": "ipython",
    "version": 3
   },
   "file_extension": ".py",
   "mimetype": "text/x-python",
   "name": "python",
   "nbconvert_exporter": "python",
   "pygments_lexer": "ipython3",
   "version": "3.10.10"
  }
 },
 "nbformat": 4,
 "nbformat_minor": 4
}
