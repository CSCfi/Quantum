{
 "cells": [
  {
   "cell_type": "markdown",
   "metadata": {},
   "source": [
    "Notebook version 1.0, 31 Aug 2021. Written by Joona Andersson / CSC - IT Center for Science Ltd. joona.andersson77@gmail.com\n",
    "\n",
    "Licensed under the MIT license: http://www.opensource.org/licenses/mit-license.php\n",
    "***\n",
    "\n",
    "# Optimized Shor's algorithm for N = 15\n",
    "Here we present an optimized version of Shor's algorithm for factoring the number 15 with a = 7, and perform noise simulations using the circuit. The circuit uses 7 qubits and only 31 gates."
   ]
  },
  {
   "cell_type": "code",
   "execution_count": null,
   "metadata": {},
   "outputs": [],
   "source": [
    "from qat.lang.AQASM import *\n",
    "from qat.lang.AQASM.qftarith import QFT\n",
    "import qat.lang.AQASM.qftarith as qftarith\n",
    "import numpy as np\n",
    "from qat.qpus import LinAlg\n",
    "from qat.quops import QuantumChannelKraus\n",
    "from qat.hardware.default import HardwareModel\n",
    "from qat.qpus import NoisyQProc\n",
    "from qat.quops import ParametricPureDephasing, ParametricAmplitudeDamping\n",
    "from qat.core.util import statistics\n",
    "from qat.hardware import GatesSpecification\n",
    "from itertools import product\n",
    "import matplotlib.pyplot as plt"
   ]
  },
  {
   "cell_type": "code",
   "execution_count": null,
   "metadata": {},
   "outputs": [],
   "source": [
    "N = 15\n",
    "a = 7\n",
    "n = 4\n",
    "t = 3 # size of the upper register"
   ]
  },
  {
   "cell_type": "code",
   "execution_count": null,
   "metadata": {},
   "outputs": [],
   "source": [
    "def u_generator(n):\n",
    "    rout = QRoutine()\n",
    "    wires = rout.new_wires(n)\n",
    "    for q in range(n):\n",
    "        rout.apply(X, wires[q])\n",
    "    rout.apply(SWAP, wires[1], wires[2])\n",
    "    rout.apply(SWAP, wires[2], wires[3])\n",
    "    rout.apply(SWAP, wires[0], wires[3])\n",
    "    return rout\n",
    "u_gate = AbstractGate('U', [int], circuit_generator=u_generator)"
   ]
  },
  {
   "cell_type": "code",
   "execution_count": null,
   "metadata": {},
   "outputs": [],
   "source": [
    "short_shor = Program()\n",
    "reg = short_shor.qalloc(n+t)\n",
    "cbits = short_shor.calloc(n+t)\n",
    "for q in range(t):\n",
    "    short_shor.apply(H, reg[q])\n",
    "short_shor.apply(X, reg[t])\n",
    "for idx in range(t-1):\n",
    "    for _ in range(2**idx):\n",
    "        short_shor.apply(u_gate(n).ctrl(), reg[idx], reg[3:n+t])\n",
    "QFT(t).dag()(reg[:t])\n",
    "#short_shor.measure(reg[:t], cbits)\n",
    "circuit = short_shor.to_circ()\n",
    "%qatdisplay circuit"
   ]
  },
  {
   "cell_type": "markdown",
   "metadata": {},
   "source": [
    "The plot below demonstrates that this circuit works correctly."
   ]
  },
  {
   "cell_type": "code",
   "execution_count": null,
   "metadata": {},
   "outputs": [],
   "source": [
    "qpu = LinAlg()\n",
    "result = qpu.submit(circuit.to_job(qubits =[0,1,2], nbshots=0))\n",
    "states = [str(sample.state) for sample in result]\n",
    "probabilities = [sample.probability for sample in result]\n",
    "\n",
    "plt.bar(states, probabilities, align='center', alpha=0.5)\n",
    "plt.xlabel('State of the first qubit')\n",
    "plt.title('Measurement outcome probabilities')\n",
    "\n",
    "plt.show()    \n",
    "\n",
    "print(statistics(circuit))"
   ]
  },
  {
   "cell_type": "markdown",
   "metadata": {},
   "source": [
    "# Noisy simulation\n",
    "Let's now observe what happens when we replace perfect gates with imperfect gates and add environmental noise to the circuit."
   ]
  },
  {
   "cell_type": "code",
   "execution_count": null,
   "metadata": {},
   "outputs": [],
   "source": [
    "shots = 0 ## a constant for the number of shots\n",
    "sim_method = 'deterministic'  ## 'deterministic' or 'stochastic'\n",
    "sim_method = 'stochastic'  ## 'deterministic' or 'stochastic'"
   ]
  },
  {
   "cell_type": "markdown",
   "metadata": {},
   "source": [
    "## Defining imperfect gates"
   ]
  },
  {
   "cell_type": "code",
   "execution_count": null,
   "metadata": {},
   "outputs": [],
   "source": [
    "## Gate times and fidelities\n",
    "\n",
    "# X gate\n",
    "X_fidelity = 0.95\n",
    "X_time = 30\n",
    "\n",
    "#CNOT gate\n",
    "CNOT_fidelity = 0.95\n",
    "CNOT_time = 90\n",
    "\n",
    " #C-PH gate\n",
    "CPH_fidelity = 0.95\n",
    "CPH_time = 40\n",
    "\n",
    "# H gate\n",
    "H_fidelity = 0.95\n",
    "H_time = 30\n",
    "\n",
    "\n",
    "C_SWAP_fidelity = 0.95\n",
    "C_SWAP_time = 90\n",
    "\n",
    "# Environmental noise parameters\n",
    "T1 = 5000 # qubit's energy relaxation time\n",
    "T2 = 5000 # qubit's dephasing time\n",
    "T_phi = 1/(1/T2 - 1/(2*T1)) # Pure dephasing"
   ]
  },
  {
   "cell_type": "code",
   "execution_count": null,
   "metadata": {},
   "outputs": [],
   "source": [
    "## Kraus operators for noisy gates\n",
    "\n",
    "# Noisy RX\n",
    "px = X_fidelity\n",
    "noisy_X = QuantumChannelKraus([np.sqrt(px)*np.array([[0,1], \n",
    "                                                      [1,0]]),\n",
    "                                                       np.sqrt(1-px)*np.identity(2)], name='Noisy X')\n",
    "#Noisy CNOT\n",
    "pcnot = CNOT_fidelity \n",
    "noisy_CNOT = QuantumChannelKraus([np.sqrt(pcnot)*np.array([[1, 0, 0, 0],\n",
    "                                                           [0, 1, 0, 0],\n",
    "                                                           [0, 0, 1, -1j],\n",
    "                                                           [0, 0, -1j, 1]]),     \n",
    "                                                      np.sqrt(1-pcnot)*np.identity(4)],\n",
    "                                                       name=\"Noisy CNOT\")\n",
    "#Noisy Hadamard\n",
    "ph = H_fidelity\n",
    "noisy_H = QuantumChannelKraus([np.sqrt(ph)*np.array([[1, 1], \n",
    "                                                     [1, -1]])/np.sqrt(2), \n",
    "                                                   np.sqrt(1-ph)*np.identity(2)],\n",
    "                                                    name='Noisy H')\n",
    "\n",
    "#Noisy C-PH\n",
    "pcph = CPH_fidelity\n",
    "noisy_C_PH = lambda theta : QuantumChannelKraus([np.sqrt(pcph)* np.array([[1, 0, 0, 0],\n",
    "                                                                         [0, 1, 0, 0],\n",
    "                                                                         [0, 0, 1, 0],\n",
    "                                                             [0, 0, 0, np.exp(theta*1j)] ], dtype=np.complex_),\n",
    "                                                                np.sqrt(1-pcph)*np.identity(4)])\n",
    "#Noisy C-SWAP\n",
    "pcswap = C_SWAP_fidelity\n",
    "noisy_C_SWAP = QuantumChannelKraus([np.sqrt(pcswap)*np.array([[1,0,0,0,0,0,0,0],\n",
    "                                                            [0,1,0,0,0,0,0,0],\n",
    "                                                            [0,0,1,0,0,0,0,0],\n",
    "                                                            [0,0,0,1,0,0,0,0],\n",
    "                                                            [0,0,0,0,1,0,0,0],\n",
    "                                                            [0,0,0,0,0,0,1,0],\n",
    "                                                            [0,0,0,0,0,1,0,0],\n",
    "                                                            [0,0,0,0,0,0,0,1]]),\n",
    "                                                             np.sqrt(1-pcswap)*np.identity(8)],\n",
    "                                                            name='Noisy C-SWAP')\n"
   ]
  },
  {
   "cell_type": "code",
   "execution_count": null,
   "metadata": {},
   "outputs": [],
   "source": [
    "gate_times = { 'X': X_time,  'C-SWAP': C_SWAP_time, 'H': H_time,\n",
    "              'C-PH': CPH_time, 'C-X': CNOT_time }\n",
    "\n",
    "quantum_channels = { 'X': noisy_X, 'C-SWAP': noisy_C_SWAP,\n",
    "                    'H': noisy_H, 'C-PH': noisy_C_PH, 'C-X': noisy_CNOT }\n",
    "\n",
    "gates_spec = GatesSpecification(gate_times, quantum_channels)"
   ]
  },
  {
   "cell_type": "markdown",
   "metadata": {},
   "source": [
    "## Noisy simulation without environmental noise"
   ]
  },
  {
   "cell_type": "code",
   "execution_count": null,
   "metadata": {},
   "outputs": [],
   "source": [
    "hw_model = HardwareModel(gates_spec, None, idle_noise=None) ## None for now\n",
    "\n",
    "noisy_qpu = NoisyQProc(hardware_model= hw_model, sim_method=sim_method)\n",
    "\n",
    "job = circuit.to_job(qubits=[0,1,2], nbshots=shots)\n",
    "\n",
    "result = noisy_qpu.submit(job)\n",
    "\n",
    "prob_sum = sum([sample.probability for sample in result]) ## normalize probabilities\n",
    "\n",
    "noisy_states = [str(sample.state) for sample in result]\n",
    "noisy_probabilities = [sample.probability/prob_sum for sample in result]\n",
    "\n",
    "plt.figure(figsize=(10, 4))\n",
    "plt.bar(noisy_states, noisy_probabilities)\n",
    "plt.title('Measurement outcome probabilities')\n",
    "\n",
    "plt.show()\n",
    "\n",
    "%qatdisplay circuit --hardware hw_model"
   ]
  },
  {
   "cell_type": "markdown",
   "metadata": {},
   "source": [
    "## Defining environmental noise"
   ]
  },
  {
   "cell_type": "code",
   "execution_count": null,
   "metadata": {},
   "outputs": [],
   "source": [
    "#Amplitude damping characterized by T1\n",
    "amp_damp = ParametricAmplitudeDamping(T_1=T1)\n",
    "#Pure dephasing characterized by T_phi\n",
    "pure_dephasing = ParametricPureDephasing(T_phi = T_phi)\n",
    "\n",
    "## Amplitude damping channel for two qubits. We build a new 4x4 quantum channel whose Kraus operators\n",
    "## are pairwise Kronecker products of the Kraus operators of single qubit amplitude damping channels.\n",
    "## The gate duration of SWAP/C-PH is given as parameter 'tau' to amp_damp.  \n",
    "two_qbit_amp_damp_CNOT = QuantumChannelKraus([np.kron(k1, k2) \n",
    "                                     for k1, k2 in product(amp_damp(tau=CNOT_time).kraus_operators,\n",
    "                                                           amp_damp(tau=CNOT_time).kraus_operators)])\n",
    "\n",
    "## Pure dephasing channel for two qubits. The logic is exactly same as above.\n",
    "two_qbit_pure_deph_CNOT = QuantumChannelKraus([np.kron(k1, k2)\n",
    "                                     for k1, k2 in product(pure_dephasing(tau=CNOT_time).kraus_operators,\n",
    "                                                           pure_dephasing(tau=CNOT_time).kraus_operators)])\n",
    "#-------------------------------------------------------------------------------------\n",
    "# Quantum channels for C-PH\n",
    "two_qbit_amp_damp_CPH = QuantumChannelKraus([np.kron(k1, k2) \n",
    "                                     for k1, k2 in product(amp_damp(tau=CPH_time).kraus_operators,\n",
    "                                                           amp_damp(tau=CPH_time).kraus_operators)])\n",
    "\n",
    "\n",
    "two_qbit_pure_deph_CPH = QuantumChannelKraus([np.kron(k1, k2)\n",
    "                                     for k1, k2 in product(pure_dephasing(tau=CPH_time).kraus_operators,\n",
    "                                                           pure_dephasing(tau=CPH_time).kraus_operators)])\n",
    "#--------------------------------------------------------------------------------------\n",
    "# C-SWAP is a three-qubit gate and requires an 8x8 quantum channel which we can define similarluy to \n",
    "# the 4x4 channels.\n",
    "three_qbit_amp_damp = QuantumChannelKraus([np.kron(np.kron(k1, k2), k3)\n",
    "                                     for k1, k2, k3 in product(amp_damp(tau=C_SWAP_time).kraus_operators,\n",
    "                                                           amp_damp(tau=C_SWAP_time).kraus_operators,\n",
    "                                                           amp_damp(tau=C_SWAP_time).kraus_operators)])\n",
    "\n",
    "\n",
    "three_qbit_pure_deph = QuantumChannelKraus([np.kron(np.kron(k1, k2), k3)\n",
    "                                     for k1, k2, k3 in product(pure_dephasing(tau=C_SWAP_time).kraus_operators,\n",
    "                                                           pure_dephasing(tau=C_SWAP_time).kraus_operators,\n",
    "                                                           pure_dephasing(tau=C_SWAP_time).kraus_operators)])\n",
    "\n",
    "gates_noise = { 'X': lambda : amp_damp(tau = X_time)*pure_dephasing(tau=X_time),\n",
    "                'C-X': lambda : two_qbit_amp_damp_CNOT*two_qbit_pure_deph_CNOT,\n",
    "                'C-SWAP': lambda : three_qbit_amp_damp*three_qbit_pure_deph,\n",
    "                'H': lambda : amp_damp(tau=H_time)*pure_dephasing(tau=H_time),\n",
    "                'C_PH': lambda : two_qbit_amp_damp_CPH*two_qbit_pure_deph_CPH }\n",
    "\n",
    "idle_noise = [amp_damp, pure_dephasing]\n",
    "\n",
    "#Create hardware model with imperfect gates and environmental noise\n",
    "env_hardware_model = HardwareModel(gates_spec, gate_noise = gates_noise, idle_noise=idle_noise)\n"
   ]
  },
  {
   "cell_type": "code",
   "execution_count": null,
   "metadata": {},
   "outputs": [],
   "source": [
    "env_qpu = NoisyQProc(hardware_model=env_hardware_model, sim_method=sim_method)\n",
    "\n",
    "env_result = env_qpu.submit(circuit.to_job(qubits=[0,1,2], nbshots=shots))\n",
    "\n",
    "prob_sum = sum([sample.probability for sample in env_result]) ## normalize probabilities\n",
    "\n",
    "env_states = [str(sample.state) for sample in env_result]\n",
    "env_probabilities = [sample.probability/prob_sum for sample in env_result]\n",
    "\n",
    "\n",
    "plt.figure(figsize=(10, 4))\n",
    "plt.bar(env_states, env_probabilities)\n",
    "plt.title('Measurement outcome probabilities')\n",
    "\n",
    "plt.show()"
   ]
  },
  {
   "cell_type": "code",
   "execution_count": null,
   "metadata": {},
   "outputs": [],
   "source": []
  }
 ],
 "metadata": {
  "kernelspec": {
   "display_name": "Python 3",
   "language": "python",
   "name": "python3"
  },
  "language_info": {
   "codemirror_mode": {
    "name": "ipython",
    "version": 3
   },
   "file_extension": ".py",
   "mimetype": "text/x-python",
   "name": "python",
   "nbconvert_exporter": "python",
   "pygments_lexer": "ipython3",
   "version": "3.6.8"
  }
 },
 "nbformat": 4,
 "nbformat_minor": 4
}
