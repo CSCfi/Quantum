{
 "cells": [
  {
   "cell_type": "markdown",
   "metadata": {},
   "source": [
    "Notebook version 1.0, 31 Aug 2021. Written by Joona Andersson / CSC - IT Center for Science Ltd. joona.andersson77@gmail.com\n",
    "\n",
    "Licensed under the MIT license: http://www.opensource.org/licenses/mit-license.php\n",
    "\n",
    "Tested on Kvasi, running QLM version 1.2.1: https://research.csc.fi/-/kvasi\n",
    "***\n",
    "# QAOA for MaxCut, Circuit Sizes\n",
    "Quantum Approximate Optimization Algorithms (QAOA) are possibly the first type of quantum algorithms to show quantum advantage in the near future. One application is the MaxCut algorithm. In this notebook we explore the sizes of QAOA circuits and how they grow as the size of the MaxCut problem graphs get larger.<br>"
   ]
  },
  {
   "cell_type": "code",
   "execution_count": null,
   "metadata": {},
   "outputs": [],
   "source": [
    "## Import the necessary tools\n",
    "import networkx as nx # this is a Python package for network/graph tools\n",
    "import numpy as np\n",
    "from qat.core.util import statistics\n",
    "from qat.vsolve.qaoa import MaxCut\n",
    "import matplotlib.pyplot as plt"
   ]
  },
  {
   "cell_type": "code",
   "execution_count": null,
   "metadata": {},
   "outputs": [],
   "source": [
    "## Define some helper functions\n",
    "# Generate two circuits of the same problem graph\n",
    "def two_circuits(nodes, depth):\n",
    "    graph = nx.generators.random_graphs.erdos_renyi_graph(n=nodes, p = 0.5)\n",
    "    problem = MaxCut(graph)\n",
    "    circuit1 = problem.qaoa_ansatz(depth=depth).circuit\n",
    "    circuit2 = problem.qaoa_ansatz(depth=depth+1).circuit\n",
    "    return circuit1, circuit2\n",
    "\n",
    "def get_circuit(nodes, depth):\n",
    "    graph = nx.generators.random_graphs.erdos_renyi_graph(n=nodes, p = 0.5)\n",
    "    problem = MaxCut(graph)\n",
    "    circuit = problem.qaoa_ansatz(depth = depth).circuit\n",
    "    return circuit\n",
    "\n",
    "## Investigate QAOA circuit sizes at a fixed depth\n",
    "def get_number_of_cnots(fixed_depth, nodes_limit):\n",
    "    number_of_cnots = dict()\n",
    "    temp = []\n",
    "    for nodes in range(5, nodes_limit):\n",
    "        for _ in range(100):\n",
    "            circuit = get_circuit(nodes, fixed_depth)\n",
    "            temp.append(statistics(circuit)['gates']['CNOT'])\n",
    "        number_of_cnots[nodes] = sum(temp) / 100\n",
    "    return number_of_cnots\n",
    "\n",
    "def get_total_number_of_gates(fixed_depth, nodes_limit):\n",
    "    number_of_gates = {}\n",
    "    temp = []\n",
    "    for nodes in range(5, nodes_limit):\n",
    "        for _ in range(100):\n",
    "            circuit = get_circuit(nodes, fixed_depth)\n",
    "            stats = statistics(circuit)\n",
    "            temp.append(stats['gate_size'])\n",
    "        number_of_gates[nodes] = sum(temp) / 100\n",
    "    return number_of_gates"
   ]
  },
  {
   "cell_type": "code",
   "execution_count": null,
   "metadata": {},
   "outputs": [],
   "source": [
    "## Visualize QAOA circuit for MaxCut\n",
    "circuit_1, circuit_2 = two_circuits(nodes=4, depth=1)\n",
    "print('One QAOA step / depth 1: ')\n",
    "%qatdisplay circuit_1\n",
    "print(statistics(circuit_1))\n",
    "print('Two QAOA steps / depth 2: ')\n",
    "%qatdisplay circuit_2\n",
    "print(statistics(circuit_2))"
   ]
  },
  {
   "cell_type": "markdown",
   "metadata": {},
   "source": []
  },
  {
   "cell_type": "code",
   "execution_count": null,
   "metadata": {},
   "outputs": [],
   "source": [
    "## Get the number of CNOT operations at different depths for plotting.\n",
    "cnots_at_depth1 = get_number_of_cnots(1, 21)\n",
    "cnots_at_depth2 = get_number_of_cnots(2, 21)\n",
    "cnots_at_depth4 = get_number_of_cnots(4, 21)\n",
    "cnots_at_depth8 = get_number_of_cnots(8, 21)"
   ]
  },
  {
   "cell_type": "code",
   "execution_count": null,
   "metadata": {},
   "outputs": [],
   "source": [
    "plt.figure(figsize=(10, 5))\n",
    "plt.rcParams['font.size'] = 16\n",
    "plt.plot(cnots_at_depth1.keys(), cnots_at_depth1.values(), label='CNOTs at depth 1')\n",
    "plt.plot(cnots_at_depth2.keys(), cnots_at_depth2.values(), label='CNOTs at depth 2')\n",
    "plt.plot(cnots_at_depth4.keys(), cnots_at_depth4.values(), label='CNOTs at depth 4')\n",
    "plt.plot(cnots_at_depth8.keys(), cnots_at_depth8.values(), label='CNOTs at depth 8')\n",
    "plt.xlabel('Number of nodes in graph/ qubits')\n",
    "plt.ylabel('Number of CNOTs in the circuit')\n",
    "plt.legend()\n",
    "plt.grid()\n",
    "plt.show()"
   ]
  },
  {
   "cell_type": "code",
   "execution_count": null,
   "metadata": {},
   "outputs": [],
   "source": [
    "## Get the total number of gates at different depths.\n",
    "gates_at_depth1 = get_total_number_of_gates(1, 21)\n",
    "gates_at_depth2 = get_total_number_of_gates(2, 21)\n",
    "gates_at_depth4 = get_total_number_of_gates(4, 21)\n",
    "gates_at_depth8 = get_total_number_of_gates(8, 21)"
   ]
  },
  {
   "cell_type": "code",
   "execution_count": null,
   "metadata": {},
   "outputs": [],
   "source": [
    "plt.figure(figsize=(10, 5))\n",
    "plt.rcParams['font.size'] = 16\n",
    "plt.plot(gates_at_depth1.keys(), gates_at_depth1.values(), label='Gates at depth 1')\n",
    "plt.plot(gates_at_depth2.keys(), gates_at_depth2.values(), label='Gates at depth 2')\n",
    "plt.plot(gates_at_depth4.keys(), gates_at_depth4.values(), label='Gates at depth 4')\n",
    "plt.plot(gates_at_depth8.keys(), gates_at_depth8.values(), label='Gates at depth 8')\n",
    "plt.xlabel('Number of nodes in graph/ qubits')\n",
    "plt.ylabel('Number of gates in the circuit')\n",
    "plt.legend()\n",
    "plt.grid()\n",
    "plt.show()"
   ]
  },
  {
   "cell_type": "markdown",
   "metadata": {},
   "source": [
    "## Requirements For Achieving Quantum Advantage With MaxCut\n",
    "A study has found that in order for QAOA for MaxCut to be competitive against classical algorithms and to outperform them, we would need to use hundreds to a few thousands of qubits. Another study suggests that QAOA depth of at least 8 will be necessary to ensure good quality results for computations with larger graphs. <br>\n",
    "\n",
    "Let's use the data generated by Kvasi to find out how large the circuits necessary for quantum advantage might be, assuming circuits keep growing at the same rate."
   ]
  },
  {
   "cell_type": "code",
   "execution_count": null,
   "metadata": {},
   "outputs": [],
   "source": [
    "gates = {}\n",
    "with open('depth_8_gates.txt', 'r') as file:\n",
    "    for line in file:\n",
    "        line = line.strip().split(',')\n",
    "        gates[int(line[0])] = float(line[1])\n",
    "\n",
    "model = np.polyfit(list(gates.keys()), list(gates.values()), 2)\n",
    "predict = np.poly1d(model)\n",
    "\n",
    "x = np.arange(5, 700)\n",
    "plt.figure(figsize=(15, 8))\n",
    "plt.rcParams['font.size'] = 16\n",
    "plt.plot(x, predict(x), label='Number of gates')\n",
    "plt.title('Number of Quantum Gates at QAOA depth 8')\n",
    "plt.xlabel('Number of graph nodes/qubits')\n",
    "plt.ylabel('Number of quantum gates')\n",
    "plt.legend()\n",
    "plt.grid()\n",
    "plt.show()"
   ]
  },
  {
   "cell_type": "markdown",
   "metadata": {},
   "source": [
    "As we can see, the circuit for MaxCut gets very large as we reach graph sizes where quantum computation might outperform classical computing. <br>\n",
    "\n",
    "Ideally, the number of qubits grows as the number of nodes in the problem graph grows. However, with larger circuits, the need to implement quantum error correction will arise. The plots above assume that all qubits are connected to each other which is not how quantum processors work in reality. In addition, PH gates might have to be decomposed further into many rotations to implement a specific angle for a rotation. Taking these three factors into account might significantly increase the number of qubits required and the number of gates in the circuits.\n",
    "<br>\n",
    "## Links\n",
    "[QAOA for Max-Cut requires hundreds of qubits for quantum speed-up](https://arxiv.org/pdf/1812.07589.pdf) <br>\n",
    "[Performance of the Quantum Approximate Optimization Algorithm on the Maximum Cut Problem](https://arxiv.org/pdf/1811.08419.pdf) <br>\n",
    "[Optimal ancilla-free Clifford+T approximation of z-rotations](https://arxiv.org/pdf/1403.2975.pdf)\n"
   ]
  },
  {
   "cell_type": "code",
   "execution_count": null,
   "metadata": {},
   "outputs": [],
   "source": []
  }
 ],
 "metadata": {
  "kernelspec": {
   "display_name": "Python 3",
   "language": "python",
   "name": "python3"
  },
  "language_info": {
   "codemirror_mode": {
    "name": "ipython",
    "version": 3
   },
   "file_extension": ".py",
   "mimetype": "text/x-python",
   "name": "python",
   "nbconvert_exporter": "python",
   "pygments_lexer": "ipython3",
   "version": "3.6.8"
  }
 },
 "nbformat": 4,
 "nbformat_minor": 4
}
