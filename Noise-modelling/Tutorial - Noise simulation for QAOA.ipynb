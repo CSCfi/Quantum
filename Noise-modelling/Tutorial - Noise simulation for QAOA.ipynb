{
 "cells": [
  {
   "cell_type": "markdown",
   "metadata": {},
   "source": [
    "Notebook version 1.0, 31 Aug 2021. Written by Joona Andersson / CSC - IT Center for Science Ltd. joona.andersson77@gmail.com\n",
    "\n",
    "Licensed under the MIT license: http://www.opensource.org/licenses/mit-license.php\n",
    "***\n",
    "# Applying Noise to QAOA\n",
    "This notebook explains how to apply noise to QAOA for the MaxCut algorithm. It shows how to extract the circuit from the MaxCut problem class and how to measure the expectation value of an observable on a noisy QPU. We are going to use the Clifford gate set $(H, S, RX, RY, RZ, CNOT)$ with the addition of the $PH$ gate so that no circuit conversion is needed. The phase gate (PH) can be implemented in practice using the other Clifford $+ T$ gates but that is omitted here."
   ]
  },
  {
   "cell_type": "code",
   "execution_count": null,
   "metadata": {},
   "outputs": [],
   "source": [
    "## defining the networkx Graph\n",
    "import networkx as nx\n",
    "nodes = 6\n",
    "graph = nx.generators.random_graphs.erdos_renyi_graph(n=nodes, p=0.5) \n",
    "nx.draw(graph,with_labels=True) # vizualization of the randomly generated graph"
   ]
  },
  {
   "cell_type": "code",
   "execution_count": 2,
   "metadata": {},
   "outputs": [
    {
     "data": {
      "image/png": "[encoded data removed]",
      "text/plain": [
       "<IPython.core.display.Image object>"
      ]
     },
     "execution_count": 2,
     "metadata": {},
     "output_type": "execute_result"
    },
    {
     "name": "stdout",
     "output_type": "stream",
     "text": [
      "{'size': 60, 'gates': {'custom gate': 0, 'H': 6, 'CNOT': 28, 'PH': 14, 'RX': 12}, 'measure': 0, 'reset': 0, 'logic': 0, 'break': 0, 'remap': 0, 'gate_size': 60}\n"
     ]
    }
   ],
   "source": [
    "## defining the Max-Cut problem\n",
    "from qat.vsolve.qaoa import MaxCut\n",
    "problem = MaxCut(graph) # Instatiate MaxCut problem, with the above graph as an input\n",
    "\n",
    "H = problem.get_observable() # Get the problem Hamiltonian\n",
    "\n",
    "p = 2 # Depth of QAOA\n",
    "\n",
    "ansatz = problem.qaoa_ansatz(depth = p) # creates ansatz with one pair of 'QAOA blocks' applied\n",
    "\n",
    " # extract a corresponding circuit object from the ansatz\n",
    "circuit = ansatz.circuit\n",
    "\n",
    "%qatdisplay circuit\n",
    "## In case the circuit is too big to draw, we can use qat.core.util.statistics to\n",
    "# see how the circuit is built.\n",
    "from qat.core.util import statistics\n",
    "print(statistics(circuit))"
   ]
  },
  {
   "cell_type": "markdown",
   "metadata": {},
   "source": [
    "### Noisy Simulation of the Algorithm\n",
    "Now that we know what gates our QAOA circuit uses, we can define noise models for this circuit the same way as with any other circuit. We need to define noisy Hadamards (H), phase gates (PH), X-rotations (RX), and CNOT gates. In addition, we define amplitude damping and pure dephasing noise to model environmental noise. This noise affects qubits during the whole duration of the algorithm. Learn more here: https://arxiv.org/abs/1904.06560"
   ]
  },
  {
   "cell_type": "code",
   "execution_count": 3,
   "metadata": {},
   "outputs": [],
   "source": [
    "## Specifications for gate fidelities and gate times. Change these\n",
    "# values to observe how the they affect the results of the algorithm\n",
    "\n",
    "# X rotation gate\n",
    "Xrot_fidelity = 0.995 # probability of success\n",
    "Xrot_time = 30 # gate duration in nanoseconds\n",
    "\n",
    "# H gate\n",
    "H_fidelity = 0.99\n",
    "H_time = 30\n",
    "\n",
    "# CNOT gate\n",
    "CNOT_fidelity = 0.98\n",
    "CNOT_time = 280 \n",
    "\n",
    "# PH gate\n",
    "PH_fidelity = 0.99\n",
    "PH_time = 30\n",
    "\n",
    "## Environmetal noise parameters\n",
    "T1 = 120000 # qubit's energy relaxation time in nanoseconds\n",
    "T2 = 190000 # qubit's dephasing time in nanoseconds"
   ]
  },
  {
   "cell_type": "markdown",
   "metadata": {},
   "source": [
    "Here we define quantum channels for the gates we use in the circuit. In order to do this, one needs to know how to represent gates in their matrix form. These can be found under \"The AQASM format\" section in the QLM documentation, for example."
   ]
  },
  {
   "cell_type": "code",
   "execution_count": 5,
   "metadata": {},
   "outputs": [],
   "source": [
    "from qat.quops import QuantumChannelKraus ## Kraus representation of quantum channels\n",
    "import numpy as np # numpy is used to generate matrices\n",
    "\n",
    "# Noisy X-rotation\n",
    "px = Xrot_fidelity # probability that the RX(theta) rotation succeeds\n",
    "noisy_RX = lambda theta : QuantumChannelKraus([np.sqrt(px)*np.array([[np.cos(theta/2), -np.sin(theta/2)*1j],\n",
    "                                                     [-np.sin(theta/2)*1j, np.cos(theta/2)]]), # the RX(pi/2) gate -> gate succeeds\n",
    "                                       np.sqrt(1-px)*np.identity(2)],   # the identity -> nothing happens\n",
    "                                       name=\"noisy RX(pi/2)\")           # name of the quantum operation/channel\n",
    "\n",
    "# Noisy Hadamard\n",
    "ph = H_fidelity\n",
    "noisy_H = QuantumChannelKraus([np.sqrt(ph)*np.array([[1, 1],\n",
    "                                                      [1, -1]]/np.sqrt(2)),\n",
    "                                      np.sqrt(1-ph)*np.identity(2)],   \n",
    "                                       name=\"noisy H\")          \n",
    "\n",
    "# Noisy CNOT\n",
    "pcnot = CNOT_fidelity # probability that the CNOT rotation succeeds\n",
    "noisy_CNOT = QuantumChannelKraus([np.sqrt(pcnot)*np.array([[1, 0, 0, 0],\n",
    "                                                           [0, 1, 0, 0],\n",
    "                                                           [0, 0, 0, 1],\n",
    "                                                           [0, 0, 1, 0]]),         # the CNOT gate -> gate succeeds   \n",
    "                                                  np.sqrt(1-pcnot)*np.identity(4)],# the identity -> nothing happens\n",
    "                                                   name=\"noisy CNOT\")\n",
    "# Noisy PH\n",
    "pph = PH_fidelity\n",
    "noisy_PH = lambda theta : QuantumChannelKraus([np.sqrt(pph)*np.array([[1,0],\n",
    "                                                                      [0, np.exp(theta*1j)]]),\n",
    "                                              np.sqrt(1-pph)*np.identity(2)], name=\"noisy PH\")\n"
   ]
  },
  {
   "cell_type": "code",
   "execution_count": 6,
   "metadata": {},
   "outputs": [],
   "source": [
    "from qat.quops import ParametricPureDephasing, ParametricAmplitudeDamping\n",
    "## Amplitude Damping characterized by T_1\n",
    "amp_damp = ParametricAmplitudeDamping(T_1 = T1)\n",
    "\n",
    "## Pure Dephasing characterized by T_phi. The contribution of amplitude damping (T1) is removed \n",
    "## from transverse relaxation (T2) to give pure dephasing only (T_phi)\n",
    "pure_deph = ParametricPureDephasing(T_phi = 1/(1/T2 - 1/(2*T1))) \n",
    "\n",
    "from itertools import product\n",
    "\n",
    "## Amplitude damping channel for two qubits. We build a new 4x4 quantun channel whose Kraus operators\n",
    "## are pairwise Kronecker products of the Kraus operators of single qubit amplitude damping channels.\n",
    "## The gate duration of CNOT is given as parameter 'tau' to amp_damp.  \n",
    "two_qbit_amp_damp = QuantumChannelKraus([np.kron(k1, k2) \n",
    "                                     for k1, k2 in product(amp_damp(tau=CNOT_time).kraus_operators,\n",
    "                                                           amp_damp(tau=CNOT_time).kraus_operators)])\n",
    "\n",
    "## Pure dephasing channel for two qubits. The logic is exactly same as above.\n",
    "two_qbit_pure_deph = QuantumChannelKraus([np.kron(k1, k2)\n",
    "                                     for k1, k2 in product(pure_deph(tau=CNOT_time).kraus_operators,\n",
    "                                                           pure_deph(tau=CNOT_time).kraus_operators)])"
   ]
  },
  {
   "cell_type": "code",
   "execution_count": 7,
   "metadata": {},
   "outputs": [
    {
     "name": "stderr",
     "output_type": "stream",
     "text": [
      "/usr/lib64/python3.6/site-packages/qat/core/magic/magic.py:157: UserWarning: FixedFormatter should only be used together with FixedLocator\n",
      "  time_plot_advanced(circuit, hardware_model, filename)\n"
     ]
    },
    {
     "data": {
      "image/png": "[encoded data removed]",
      "text/plain": [
       "<Figure size 1008x360 with 1 Axes>"
      ]
     },
     "metadata": {
      "needs_background": "light"
     },
     "output_type": "display_data"
    }
   ],
   "source": [
    "## Let's define environmental noise during gates. \n",
    "## The series concatenation of quantum channels is implemented in pyAQASM by the '*' operator.\n",
    "## We set amplitude damping and pure dephasing channels to follow all gate operations \n",
    "## (this is approximating environmental noise during these gates).\n",
    "gates_noise = {\"RX\" : lambda _: amp_damp(tau=Xrot_time)*pure_deph(tau=Xrot_time),  \n",
    "               \"H\" : lambda : amp_damp(tau=H_time)*pure_deph(tau=H_time),\n",
    "               \"CNOT\" : lambda : two_qbit_amp_damp*two_qbit_pure_deph,\n",
    "               \"PH\" : lambda _: amp_damp(tau=PH_time)*pure_deph(tau=PH_time)}\n",
    "\n",
    "# This dictionary connects the noisy quantum channels to gate names\n",
    "quantum_channels = {\"RX\": noisy_RX,\"H\": noisy_H, \"CNOT\": noisy_CNOT, 'PH': noisy_PH}\n",
    "\n",
    "## Dictionary connecting the gate durations to the gate's name\n",
    "gate_times = {\"H\": H_time,\"RX\": Xrot_time, \"CNOT\": CNOT_time, 'PH': PH_time} \n",
    "\n",
    "from qat.hardware import GatesSpecification\n",
    "## instanciate a GatesSpecification with gate times and the corresponding quantum channels\n",
    "gates_spec = GatesSpecification(gate_times, quantum_channels)\n",
    "\n",
    "from qat.hardware.default import HardwareModel\n",
    "hw_model = HardwareModel(gates_spec, gate_noise=gates_noise, idle_noise=[amp_damp, pure_deph])\n",
    "\n",
    "## Display the circuit as a timeline of quantum operations where colored boxes represent noisy quantum gates\n",
    "## and white boxes noisy idling periods.\n",
    "%qatdisplay circuit --hardware hw_model"
   ]
  },
  {
   "cell_type": "markdown",
   "metadata": {},
   "source": [
    "### Optimizing Circuit parameters"
   ]
  },
  {
   "cell_type": "code",
   "execution_count": 8,
   "metadata": {},
   "outputs": [],
   "source": [
    "from qat.plugins import ScipyMinimizePlugin # import the plugin for optimization\n",
    "\n",
    "## Instantiate the classical optimizer using Constrained Optimization BY Linear Approximation (COBYLA) method\n",
    "optimizer = ScipyMinimizePlugin(method=\"COBYLA\",     # the optimization method\n",
    "                            tol=1e-2,                # tolerance is a threshold which, if crossed,\n",
    "                                                     # stops the iterations of an optimizer\n",
    "                            options={\"maxiter\":150}) # maximum optimization iterations. \n",
    "                                                     # Needs to be large enough for result to converge\n",
    "                                                     # (see below) "
   ]
  },
  {
   "cell_type": "markdown",
   "metadata": {},
   "source": [
    "Noisy simulations require another plugin called ObservableSplitter to be added to the stack before the optimization step. This is because calculating the expectation value of a given observable is not implemented for NoisyQProc which we use for noisy simulations."
   ]
  },
  {
   "cell_type": "code",
   "execution_count": null,
   "metadata": {},
   "outputs": [],
   "source": [
    "from qat.plugins import ObservableSplitter\n",
    "from qat.qpus import NoisyQProc\n",
    "\n",
    "## Now we can stack the classical optimizer, ObservableSplitter and NoisyQProc\n",
    "stack = optimizer | ObservableSplitter() | NoisyQProc(hw_model)\n",
    "\n",
    " ## now the job is set to calculate the expectation value for H.\n",
    "job = circuit.to_job('OBS', observable=H, nbshots=0)\n",
    "\n",
    "noisy_result = stack.submit(job)\n",
    "print('Optimized noisy value: ', noisy_result.value)  "
   ]
  },
  {
   "cell_type": "markdown",
   "metadata": {},
   "source": [
    "Let's perform the same measurement on an ideal circuit to confirm that our noise definitions had an effect on the energy measurement of the observable. The energy reading given by the ideal circuit should be lower than that of the noisy circuit."
   ]
  },
  {
   "cell_type": "code",
   "execution_count": null,
   "metadata": {},
   "outputs": [],
   "source": [
    "from qat.qpus import LinAlg\n",
    "\n",
    "qpu = LinAlg()\n",
    "ideal_stack = optimizer | qpu  ## NOTE: ObservableSplitter is not needed here.\n",
    "\n",
    "job = circuit.to_job('OBS', observable=H, nbshots=0)\n",
    "\n",
    "result = ideal_stack.submit(job)\n",
    "print('Optimized ideal value', result.value)"
   ]
  },
  {
   "cell_type": "markdown",
   "metadata": {},
   "source": [
    "## Retrieving the maximum cut\n",
    "The goal in MaxCut is to partition the vertices (modelled as qubits) to two subgraphs such that the disagreement between neighbors is maximized which is equivalent to maximizing the number of cut edges. By measuring  $|\\gamma_{optimal},\\beta_{optimal}>$ in the computational basis, we can divide the qubits into the two different subgraphs. This is because qubits belonging to different subgraphs will have different measurement results."
   ]
  },
  {
   "cell_type": "code",
   "execution_count": null,
   "metadata": {},
   "outputs": [],
   "source": [
    "## Fetch the parameters\n",
    "params = eval(noisy_result.meta_data['parameters']) # the optimal parameters are in the metadata of the result\n",
    "gammas = params[0:p] # gammas are the first p values of the parameter array, where p is the depth of the ansatz\n",
    "betas = params[p:] # betas are the last p values of the parameter array, where p is the depth of the ansatz\n",
    "\n",
    "# Bind the parameters into the QAOA circuit\n",
    "circuit_optimal = circuit.bind_variables({key : var for key, var in zip(circuit.get_variables(),params)})\n",
    "\n",
    "%qatdisplay circuit_optimal\n",
    "\n",
    "job2 = circuit_optimal.to_job(nbshots=0)\n",
    "result2 = NoisyQProc(hw_model).submit(job2) \n",
    "\n",
    "print(\"Samples from measurements of the state with optimal parameters:\")\n",
    "for sample in result2:\n",
    "    if sample.probability > 0.01: # only consider samples with reasonable probability\n",
    "        print(sample.state.value[0],\", probability:\", sample.probability)\n",
    "\n",
    "## To plot the optimal graph partition, let's find the optimal solution that occurs with highest probability \n",
    "solutions = {} # initialize a Python dictionary\n",
    "\n",
    "## loop over samples to collect the measurement outcomes and their probabilities to the dictionary\n",
    "for sample in result2:                                                    \n",
    "        solutions.update({sample.state.value[0] : sample.probability})    \n",
    "        \n",
    "most_probable_solution = max(solutions, key=solutions.get) # find the key i.e. state that has maximum probability\n",
    "print(\"-------------------------------\")\n",
    "print(\"The most probable solutions is\")\n",
    "print(most_probable_solution)"
   ]
  },
  {
   "cell_type": "markdown",
   "metadata": {},
   "source": [
    "### All states and their probabilities"
   ]
  },
  {
   "cell_type": "code",
   "execution_count": null,
   "metadata": {},
   "outputs": [],
   "source": [
    "import matplotlib.pyplot as plt\n",
    "## collect result states and their probabilities in two lists\n",
    "states = [str(sample.state.value[0]) for sample in result2 if sample.probability >= 0.000]\n",
    "probabilities = [sample.probability for sample in result2 if sample.probability > 0.000]\n",
    "\n",
    "plt.figure(figsize=(12, 6))\n",
    "plt.rcParams['font.size'] = 12\n",
    "plt.bar(states, probabilities)\n",
    "plt.xlabel('state')\n",
    "plt.ylabel('probability')\n",
    "plt.xticks(rotation=90)\n",
    "plt.show()"
   ]
  },
  {
   "cell_type": "markdown",
   "metadata": {},
   "source": [
    "### Ideal Reference:"
   ]
  },
  {
   "cell_type": "code",
   "execution_count": null,
   "metadata": {},
   "outputs": [],
   "source": [
    "## Compare noisy results to the ideal results\n",
    "ideal_result = qpu.submit(job2)\n",
    "\n",
    "states = [str(sample.state.value[0]) for sample in ideal_result if sample.probability >= 0.000]\n",
    "probabilities = [sample.probability for sample in ideal_result if sample.probability > 0.000]\n",
    "\n",
    "plt.figure(figsize=(12, 6))\n",
    "plt.rcParams['font.size'] = 12\n",
    "plt.bar(states, probabilities)\n",
    "plt.xlabel('state')\n",
    "plt.ylabel('probability')\n",
    "plt.xticks(rotation=90)\n",
    "plt.show()"
   ]
  },
  {
   "cell_type": "markdown",
   "metadata": {},
   "source": [
    "### Visualize the graph partition"
   ]
  },
  {
   "cell_type": "code",
   "execution_count": null,
   "metadata": {},
   "outputs": [],
   "source": [
    "## We need to extract the indices of the 0 and 1 partitions\n",
    "print(\"Solution configuration: \\n\" + str(most_probable_solution) + \"\\n\")\n",
    "indices_0 = [i for i, value in enumerate(most_probable_solution) if value == '0'] # build array holding the indices of 0's in the solution confiquration\n",
    "print(\"The nodes in the first subgraph:\\n\" + str(indices_0)  + \"\\n\")\n",
    "indices_1 = [i for i, value in enumerate(most_probable_solution) if value == '1'] # build array holding the indices of 1's in the solution confiquration\n",
    "print(\"The nodes in the second subgraph:\\n\" + str(indices_1) )"
   ]
  },
  {
   "cell_type": "code",
   "execution_count": null,
   "metadata": {},
   "outputs": [],
   "source": [
    "## Here we visualize the solution of the MaxCut problem. \n",
    "import matplotlib.pyplot as plt\n",
    "nodes_positions = nx.spring_layout(graph)\n",
    "plt.figure(figsize=(12,8)) \n",
    "node_size = 440\n",
    "font_size = 14\n",
    "nx.draw_networkx(graph,                # the nodes of '0'-partition will be colored blue  \n",
    "                 pos=nodes_positions, \n",
    "                 nodelist=indices_0, \n",
    "                 node_color='steelblue', \n",
    "                 node_size=node_size, \n",
    "                 font_size=font_size)\n",
    "\n",
    "nx.draw_networkx(graph,                # the nodes of '1'-partition will be colored red\n",
    "                 pos=nodes_positions, \n",
    "                 nodelist=indices_1, \n",
    "                 node_color='red', \n",
    "                 node_size=node_size, \n",
    "                 font_size=font_size)\n",
    " \n",
    "plt.show()"
   ]
  },
  {
   "cell_type": "code",
   "execution_count": null,
   "metadata": {},
   "outputs": [],
   "source": []
  }
 ],
 "metadata": {
  "kernelspec": {
   "display_name": "Python 3",
   "language": "python",
   "name": "python3"
  },
  "language_info": {
   "codemirror_mode": {
    "name": "ipython",
    "version": 3
   },
   "file_extension": ".py",
   "mimetype": "text/x-python",
   "name": "python",
   "nbconvert_exporter": "python",
   "pygments_lexer": "ipython3",
   "version": "3.6.8"
  }
 },
 "nbformat": 4,
 "nbformat_minor": 4
}
