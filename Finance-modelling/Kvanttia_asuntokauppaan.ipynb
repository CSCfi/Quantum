{
 "cells": [
  {
   "cell_type": "markdown",
   "metadata": {},
   "source": [
    "Notebook version 1.0, 31 Aug 2021. Written by Otto Salmenkivi / CSC - IT Center for Science Ltd. otto.salmenkivi@gmail.com\n",
    "\n",
    "Licensed under the MIT license: http://www.opensource.org/licenses/mit-license.php\n",
    "***\n",
    "# A quantum solution for housing market, CSC and OP Lab\n",
    "\n",
    "\n",
    "In this notebook we use the Quantum Amplitude Estimation (QAE) algorithm for predicting the Finnish housing market. In a nutshell, we have data about the average price per square metre from different postal codes within Helsinki from 2010 to 2020. We say that the average price for 2021 is given by the average price of 2020 multiplied by an annual growth ratio. From the data, we can recover probability distrubutions for the two variables, based on which we can calculate an expected value for the prediction. Classical calculations give a value of 5009 EUR. While the problem is somewhat trivial, it serves as a good quantum demonstration.\n",
    "\n",
    "This example is a prime candidate for QAE, because classically it could be solved with Monte Carlo methods. QAE promises a quadratically faster convergence to the exact value with respect to sampling times.\n",
    "\n",
    "QAE was first introduced by [Brassard et al.][1] in 2000. In the financial sector, the use of QAE has been demonstrated for example in [risk analysis][2] and [option pricing][3].\n",
    "\n",
    "[1]: https://arxiv.org/abs/quant-ph/0005055\n",
    "[2]: https://www.nature.com/articles/s41534-019-0130-6\\\\\n",
    "[3]: https://arxiv.org/abs/1905.02666\n"
   ]
  },
  {
   "cell_type": "markdown",
   "metadata": {},
   "source": [
    "## Import and process housing market data"
   ]
  },
  {
   "cell_type": "code",
   "execution_count": null,
   "metadata": {},
   "outputs": [],
   "source": [
    "import csv\n",
    "import numpy as np\n",
    "import matplotlib.pyplot as plt\n",
    "import time"
   ]
  },
  {
   "cell_type": "markdown",
   "metadata": {},
   "source": [
    "We import the data from CSV files."
   ]
  },
  {
   "cell_type": "code",
   "execution_count": null,
   "metadata": {},
   "outputs": [],
   "source": [
    "# Importing data from CSV files and creating arrays\n",
    "hki_2020 = []\n",
    "with open('Hki_hintadata_2020.csv') as csv_file:\n",
    "    csv_reader = csv.reader(csv_file, delimiter=';')\n",
    "    line_count = 0\n",
    "    for row in csv_reader:\n",
    "        hki_2020.append(float(row[0]))\n",
    "        line_count += 1\n",
    "    print(f'Processed {line_count} lines.')\n",
    "hki_2020 = np.array(hki_2020)\n",
    "\n",
    "hki_growth = []\n",
    "with open('Hki_kasvudata.csv') as csv_file:\n",
    "    csv_reader = csv.reader(csv_file, delimiter=';')\n",
    "    line_count = 0\n",
    "    for row in csv_reader:\n",
    "        hki_growth.append(float(row[0].replace(',','.')))\n",
    "        line_count += 1\n",
    "    print(f'Processed {line_count} lines.')\n",
    "hki_growth = np.array(hki_growth)"
   ]
  },
  {
   "cell_type": "markdown",
   "metadata": {},
   "source": [
    "We bin the variable data to eight bins."
   ]
  },
  {
   "cell_type": "code",
   "execution_count": null,
   "metadata": {},
   "outputs": [],
   "source": [
    "# Function to bin the data, np.histogram could also be used\n",
    "def create_bins(array, nbbins):\n",
    "    minimum = min(array)\n",
    "    maximum = max(array)\n",
    "    breakpoints = np.linspace(minimum, maximum, nbbins, endpoint = False)\n",
    "    counts = np.zeros((nbbins))\n",
    "    \n",
    "    for value in array:\n",
    "        for i in range(len(breakpoints)):\n",
    "            if value >= breakpoints[len(breakpoints)-1-i]:\n",
    "                counts[len(counts)-1-i] += 1\n",
    "                break\n",
    "    return np.array([breakpoints, counts])"
   ]
  },
  {
   "cell_type": "code",
   "execution_count": null,
   "metadata": {},
   "outputs": [],
   "source": [
    "# Binning the data and counting corresponding probablities \n",
    "price_bins = create_bins(hki_2020,8)\n",
    "sum_price_freqs = sum(price_bins[1])\n",
    "price_probs = [freq/sum_price_freqs for freq in price_bins[1]]\n",
    "\n",
    "growth_bins = create_bins(hki_growth,8)\n",
    "sum_growth_freqs = sum(growth_bins[1])\n",
    "growth_probs = [freq/sum_growth_freqs for freq in growth_bins[1]]\n",
    "\n",
    "print('--These values are used for numerical analysis--')\n",
    "print(f'Growth function constant : {growth_bins[0][0]+ (growth_bins[0][1]-growth_bins[0][0])/2}')\n",
    "print(f'Growth function coefficient: {(growth_bins[0][1]-growth_bins[0][0])}')\n",
    "print(f'Price function constant : {price_bins[0][0]+ (price_bins[0][1]-price_bins[0][0])/2}')\n",
    "print(f'Price function coefficient: {(price_bins[0][1]-price_bins[0][0])}')"
   ]
  },
  {
   "cell_type": "markdown",
   "metadata": {},
   "source": [
    "For illustrative purposes, we create pretty figures for each variable."
   ]
  },
  {
   "cell_type": "code",
   "execution_count": null,
   "metadata": {
    "scrolled": true
   },
   "outputs": [],
   "source": [
    "# plot for 2020 price bins\n",
    "\n",
    "#strings for states\n",
    "states = [bin(i)[2:].zfill(3).join(('|','>')) for i in range(8)]\n",
    "\n",
    "# Weights to normalise the histograms.\n",
    "priceweights = np.ones(len(hki_2020))/sum_price_freqs\n",
    "growthweights = np.ones(len(hki_growth))/sum_growth_freqs\n",
    "\n",
    "plt.figure()\n",
    "plt.hist(hki_2020,bins = 8,\n",
    "         weights = priceweights,\n",
    "         color = 'lightskyblue',\n",
    "         ec = 'black')\n",
    "plt.ylim(0,0.32)\n",
    "plt.ylabel('Probability',fontsize = 13)\n",
    "plt.xlabel(r'Average price for square metre in euros', fontsize = 13)\n",
    "\n",
    "\n",
    "plt.plot(price_bins[0]+799/2,price_probs, marker = 'o',c = 'black', ls= '--', lw ='1')\n",
    "plt.text(price_bins[0][0]+799/2 - 250, price_probs[0]-0.02, states[0])\n",
    "plt.text(price_bins[0][1]+799/2 - 250, price_probs[1]+0.01, states[1])\n",
    "plt.text(price_bins[0][2]+799/2 - 250, price_probs[2]-0.02, states[2])\n",
    "plt.text(price_bins[0][3]+799/2 - 250, price_probs[3]+0.01, states[3])\n",
    "plt.text(price_bins[0][4]+799/2 - 250, price_probs[4]-0.02, states[4])\n",
    "plt.text(price_bins[0][5]+799/2 - 250, price_probs[5]+0.01, states[5])\n",
    "plt.text(price_bins[0][6]+799/2 - 250, price_probs[6]+0.015, states[6])\n",
    "plt.text(price_bins[0][7]+799/2 - 250, price_probs[7]+0.02, states[7])\n",
    "\n",
    "for i in range(8):\n",
    "    lowertext = '{:.0f}'.format(price_bins[0][i])\n",
    "    uppertext = '{:.0f}'.format(price_bins[0][i]+798)\n",
    "    text = '-\\n'.join((lowertext,uppertext))\n",
    "    plt.text(price_bins[0][i]+799/2 - 230,0.007,text, fontsize = '9')\n",
    "\n",
    "#plt.savefig('price_figure', dpi = 300)\n",
    "plt.show()\n",
    "\n",
    "# Plot for 2010-2020 growth bins\n",
    "from matplotlib.ticker import (MultipleLocator, AutoMinorLocator)\n",
    "\n",
    "plt.figure()\n",
    "plt.hist(hki_growth,\n",
    "         bins = 8,\n",
    "         weights = growthweights,\n",
    "         color = 'orange',\n",
    "         ec = 'black')\n",
    "\n",
    "plt.ylim(0,0.47)\n",
    "plt.ylabel('Probability', fontsize = 13)\n",
    "plt.xlabel('Growth factor', fontsize = 13)\n",
    "plt.tick_params(axis='both', which='major', labelsize='11')\n",
    "\n",
    "plt.plot(growth_bins[0]+0.051518362/2,growth_probs, marker = 'o',c = 'black', ls= '--', lw ='1')\n",
    "for i, state in enumerate(states):\n",
    "    if i == 2 or i == 5:\n",
    "        plt.text(growth_bins[0][i]+0.01, growth_probs[i]-0.04, state)\n",
    "        continue\n",
    "    if i == 1:\n",
    "        plt.text(growth_bins[0][i]+0.01, growth_probs[i]+0.035, state)\n",
    "        continue\n",
    "    plt.text(growth_bins[0][i]+0.01, growth_probs[i]+0.02, state)\n",
    "plt.axes().xaxis.set_minor_locator(MultipleLocator(0.02))\n",
    "#plt.savefig('growth_factor_figure', dpi = 300)\n",
    "plt.show()"
   ]
  },
  {
   "cell_type": "markdown",
   "metadata": {},
   "source": [
    "The variables are linearly mapped to the quantum states. This also allows for the contruction of the function for 2021 price, and consequently its normalisation to [0,1], as required for the QAE algorithm. "
   ]
  },
  {
   "cell_type": "code",
   "execution_count": null,
   "metadata": {},
   "outputs": [],
   "source": [
    "# The mapping used to for discrete qubit states\n",
    "def price_mapping(growth_var,price_var):\n",
    "    # first order approximation of the final value based on mapping\n",
    "    return 1817.1710025 + 284.12916*growth_var + 826.066125*price_var\n",
    "def scaled_mapping(growth_var, price_var):\n",
    "    fmin = price_mapping(0,0)\n",
    "    fmax = price_mapping(7,7)\n",
    "    return (price_mapping(growth_var, price_var)-fmin)/(fmax-fmin)\n",
    "\n",
    "print(f'Original values between {price_mapping(0,0)} and {price_mapping(7,7)} is mapped linearly ',\n",
    "      f'to values between {scaled_mapping(0,0)} and {scaled_mapping(7,7)}')"
   ]
  },
  {
   "cell_type": "markdown",
   "metadata": {},
   "source": [
    "# Quantum algorithm\n",
    "Next up, we build the QAE circuit."
   ]
  },
  {
   "cell_type": "code",
   "execution_count": null,
   "metadata": {},
   "outputs": [],
   "source": [
    "from qat.lang.AQASM import Program, QRoutine, AbstractGate, RY, H, CNOT, build_gate\n",
    "from qat.lang.AQASM.qftarith import QFT\n",
    "from qat.qpus import LinAlg"
   ]
  },
  {
   "cell_type": "markdown",
   "metadata": {},
   "source": [
    "### 1. Distribution loading based on housing data"
   ]
  },
  {
   "cell_type": "code",
   "execution_count": null,
   "metadata": {},
   "outputs": [],
   "source": [
    "# Three qubits for each variable\n",
    "nb_growth_qbits = 3\n",
    "nb_price_qbits = 3"
   ]
  },
  {
   "cell_type": "code",
   "execution_count": null,
   "metadata": {},
   "outputs": [],
   "source": [
    "# We could use these function to define real circuits for ditsrubution loading,\n",
    "# but this time we cheat a little by using the matrix formation.\n",
    "\n",
    "@build_gate('GROWTH',[])\n",
    "def growth_routine() -> QRoutine:\n",
    "    probs = growth_probs\n",
    "    nb_qbits = nb_growth_qbits\n",
    "    amps = [np.sqrt(prob) for prob in probs]\n",
    "\n",
    "    # Initialise a matrix with amps as first column\n",
    "    matrix = np.identity(2**nb_qbits)\n",
    "    for i,prob in enumerate(probs):\n",
    "        matrix[i][0] = amps[i]\n",
    "    \n",
    "    # QR decomposition of the matrix to get unitary., minus to make amplitudes positive\n",
    "    dist_matrix = np.linalg.qr(matrix)[0]\n",
    "\n",
    "    # Turn that matrix into a gate\n",
    "    dist_gate = AbstractGate('GROWTH2',[],arity = nb_qbits, matrix_generator = lambda: dist_matrix)\n",
    "    \n",
    "    # Apply that gate in a routine\n",
    "    rout = QRoutine()\n",
    "    rout.apply(dist_gate(), range(nb_qbits))\n",
    "    return rout\n",
    "\n",
    "@build_gate('PRICE',[])\n",
    "def price_routine() -> QRoutine:\n",
    "    probs = price_probs\n",
    "    nb_qbits = nb_price_qbits\n",
    "    \n",
    "    amps = [np.sqrt(prob) for prob in probs]\n",
    "    \n",
    "    # Initialise a matrix with amps as first column\n",
    "    matrix = np.identity(2**nb_qbits)\n",
    "    for i,prob in enumerate(probs):\n",
    "        matrix[i][0] = amps[i]\n",
    "    \n",
    "    # QR decomposition of the matrix to get unitary\n",
    "    dist_matrix = np.linalg.qr(matrix)[0]\n",
    "    # Checking for unitarity\n",
    "\n",
    "    # Turn that matrix into a gate\n",
    "    dist_gate = AbstractGate('PRICE2',[],arity = nb_qbits, matrix_generator = lambda: dist_matrix)\n",
    "    \n",
    "    # Apply that gate in a routine\n",
    "    rout = QRoutine()\n",
    "    rout.apply(dist_gate(), range(nb_qbits))\n",
    "    return rout"
   ]
  },
  {
   "cell_type": "markdown",
   "metadata": {},
   "source": [
    "### 2. The objective function\n",
    "\n",
    "This stucture is responsible for multiplying the variables. The key is to rotate an additional objective qubit based on the distributions. The probability to measure the objective qubit in state |1>, we call $a$, codes for the information we want."
   ]
  },
  {
   "cell_type": "code",
   "execution_count": null,
   "metadata": {},
   "outputs": [],
   "source": [
    "c = 1/2      #  c is a parameter needed in the estimation of the expected value, defined within (0,1]\n",
    "f_min = price_mapping(0,0)\n",
    "f_max = price_mapping(7,7)\n",
    "\n",
    "@build_gate('F',[float,float,float])\n",
    "def F_routine(c:float, f_min:float, f_max:float) -> QRoutine:\n",
    "    # for clarity we define the cotrolled gate angles individually\n",
    "    constant = (-c/2 + np.pi/4) *2\n",
    "    # For x variable \n",
    "    xfactor = 0.036561027\n",
    "    control0 = 4*xfactor*c *2\n",
    "    control1 = 2*xfactor*c *2\n",
    "    control2 = xfactor*c *2\n",
    "    \n",
    "    # For y variable\n",
    "    yfactor = 0.1062961155\n",
    "    control3 = 4*yfactor*c *2\n",
    "    control4 = 2*yfactor*c *2\n",
    "    control5 = yfactor*c *2\n",
    "    \n",
    "    rout = QRoutine()\n",
    "    rout.apply(RY(constant), 6)\n",
    "    rout.apply(RY(control0).ctrl(), 0, 6)\n",
    "    rout.apply(RY(control1).ctrl(), 1, 6)\n",
    "    rout.apply(RY(control2).ctrl(), 2, 6)\n",
    "    rout.apply(RY(control3).ctrl(), 3, 6)\n",
    "    rout.apply(RY(control4).ctrl(), 4, 6)\n",
    "    rout.apply(RY(control5).ctrl(), 5, 6)\n",
    "    \n",
    "    return rout"
   ]
  },
  {
   "cell_type": "markdown",
   "metadata": {},
   "source": [
    "### Trying out the distribution and objective\n",
    "\n",
    "We can run the routines we have created so far to make sure they work as expected."
   ]
  },
  {
   "cell_type": "code",
   "execution_count": null,
   "metadata": {},
   "outputs": [],
   "source": [
    "kok_prog = Program()   # Initialize a quantum program\n",
    "kok_qbits = kok_prog.qalloc(7)   # Allocate 7 qubits\n",
    "kok_prog.apply(price_routine(),kok_qbits[3:6])  # Apply first distribution\n",
    "kok_prog.apply(growth_routine(), kok_qbits[0:3])  # And the second\n",
    "kok_prog.apply(F_routine(c,f_min,f_max),kok_qbits) # Apply objebtive routine\n",
    "\n",
    "kok_circ = kok_prog.to_circ() # turn into a circuit\n",
    "\n",
    "#display the circuit\n",
    "%qatdisplay kok_circ --depth 1\n",
    "\n",
    "kok_result = LinAlg().submit(kok_circ.to_job(qubits= [6]))  # Run on quantum simulator\n",
    "\n",
    "# Print results\n",
    "print('Last qubit is measured in :')\n",
    "for sample in kok_result:\n",
    "    print(f'State: {sample.state},  amplitude: {sample.amplitude},  probability: {sample.probability}')\n",
    "    \n",
    "# Visualizing the initial measurement results\n",
    "plt.figure()\n",
    "states = [str(sample.state) for sample in kok_result]\n",
    "probs = [sample.probability for sample in kok_result]\n",
    "plt.bar(states,probs)\n",
    "plt.ylabel('Probability')\n",
    "plt.draw()"
   ]
  },
  {
   "cell_type": "markdown",
   "metadata": {},
   "source": [
    "### A gate\n",
    "The $A$ gate is defined as the total effect of the distribution loading and the objective routine, meaning the circuit above. To make the construction of the $Q$ gate easier, we define it next."
   ]
  },
  {
   "cell_type": "code",
   "execution_count": null,
   "metadata": {},
   "outputs": [],
   "source": [
    "# Combine distribution and objective routines to a single routine A in order to build Q\n",
    "@build_gate('A',[])\n",
    "def A_routine() -> QRoutine:\n",
    "    rout = QRoutine()\n",
    "    if nb_growth_qbits > 0:rout.apply(growth_routine(),range(nb_growth_qbits))\n",
    "    if nb_price_qbits > 0:rout.apply(price_routine(),range(nb_growth_qbits,nb_growth_qbits+nb_price_qbits))\n",
    "    rout.apply(F_routine(c,f_min,f_max), range(nb_growth_qbits+nb_price_qbits+1))\n",
    "    return rout"
   ]
  },
  {
   "cell_type": "markdown",
   "metadata": {},
   "source": [
    "### 3. Quantum Phase Estimation circuit\n",
    "QPE is well used tool in the world of quantum algorithms. For it we need additional evaluation qubits, the $Q$ gate and an inverse Quantum Fourier Transform."
   ]
  },
  {
   "cell_type": "code",
   "execution_count": null,
   "metadata": {},
   "outputs": [],
   "source": [
    "# Choose number of evaluation qubits\n",
    "nb_eval_qbits = 5"
   ]
  },
  {
   "cell_type": "code",
   "execution_count": null,
   "metadata": {},
   "outputs": [],
   "source": [
    "# A quick function to apply Hadamards to all eval qubits\n",
    "def hadamard_all(nbqbits):\n",
    "    rout = QRoutine()\n",
    "    for i in range(nbqbits):\n",
    "        rout.apply(H,i)\n",
    "    return rout"
   ]
  },
  {
   "cell_type": "code",
   "execution_count": null,
   "metadata": {},
   "outputs": [],
   "source": [
    "# This function is used to run the A gate on quantum simulator and to retrive the amplitude of state psi,\n",
    "# which is the state of the rest of the qubits when the last qubits is 0.\n",
    "# This could not be implemented with real quantum processors, since we take advantage of the simulated amplitudes.\n",
    "    \n",
    "def get_psi():\n",
    "    prog = Program()\n",
    "    qbits = prog.qalloc(nb_growth_qbits+nb_price_qbits+1)\n",
    "    prog.apply(A_routine(), qbits)\n",
    "    A_result = LinAlg().submit(prog.to_circ().to_job())\n",
    "    statevector = A_result.statevector\n",
    "    \n",
    "    # Extracting psi\n",
    "    psi = np.empty((2**(nb_growth_qbits+nb_price_qbits),1),dtype= complex)\n",
    "    for i in range(0,2**(nb_growth_qbits+nb_price_qbits)):\n",
    "        psi[i][0] = statevector[2*i]\n",
    "\n",
    "    # Normilize statevector\n",
    "    psi_sum = sum([abs(i)**2 for i in psi])\n",
    "    \n",
    "    # Based on psi, we can actually retrive the value of a, which we are evaluating in the first place\n",
    "    print(f'Because we are simulating the circuit, we can calculate that the objective qubit is measured as:\\n'\n",
    "        f'0, with probability {psi_sum[0]}\\n'\n",
    "        f'1, with probability {1-psi_sum[0]}\\n'\n",
    "         f'The second value is the one we are trying to approximate.')\n",
    "    for i in range(len(psi)):\n",
    "        psi[i][0] = psi[i][0]/np.sqrt(psi_sum)\n",
    "        \n",
    "    return psi"
   ]
  },
  {
   "cell_type": "code",
   "execution_count": null,
   "metadata": {},
   "outputs": [],
   "source": [
    "# We calculate the matrices of the individual operations within Q = A * S_0 * A^dag * S_psi\n",
    "def Q_routine(nb_eval_qbits: int) -> QRoutine:\n",
    "    # S_0\n",
    "    #Preparing states |0>_n and <0|_n\n",
    "    ket_zero_n = np.zeros((2**(nb_growth_qbits+nb_price_qbits+1),1),dtype= complex)\n",
    "    ket_zero_n[0][0] = 1\n",
    "    bra_zero_n = np.conjugate(np.transpose(ket_zero_n))\n",
    "    \n",
    "    def S_0_matrix():\n",
    "        return np.identity(2**(nb_growth_qbits+nb_price_qbits+1))-2*np.matmul(ket_zero_n,bra_zero_n)\n",
    "    # Building a corresponding gate\n",
    "    S_0_gate = AbstractGate('S_0',[],arity = nb_growth_qbits+nb_price_qbits+1, matrix_generator = S_0_matrix)\n",
    "    \n",
    "    # S_psi\n",
    "    # Preparing the needed states |0> and <0| as numpy arrays\n",
    "    ket_zero = np.array([[1],[0]],dtype=complex)\n",
    "    bra_zero = np.conjugate(np.transpose(ket_zero))\n",
    "\n",
    "    # Run a simulation of A to get psi \n",
    "    ket_psi = get_psi()\n",
    "    bra_psi = np.conjugate(np.transpose(ket_psi))\n",
    "\n",
    "    # Calculate the matrix\n",
    "    def S_psi_matrix():\n",
    "        return np.identity(2**(nb_growth_qbits+nb_price_qbits+1))-2*np.matmul(np.kron(ket_psi,ket_zero),np.kron(bra_psi,bra_zero))\n",
    "    # Build corresponding gate\n",
    "    S_psi_gate = AbstractGate('S_{\\psi}',[],arity = nb_growth_qbits+nb_price_qbits+1, matrix_generator = S_psi_matrix)\n",
    "    \n",
    "    # Build individual Q gates based on power 2**j\n",
    "    @build_gate('Q^j',[int],arity = nb_growth_qbits+nb_price_qbits+1)\n",
    "    def Q_to_j(j:'power of Q')-> QRoutine():\n",
    "        A_rout = A_routine()\n",
    "        Qj_rout = QRoutine()\n",
    "        i = 0\n",
    "        while i < 2**j:\n",
    "            Qj_rout.apply(S_psi_gate(),range(nb_growth_qbits+nb_price_qbits+1))\n",
    "            Qj_rout.apply(A_rout.dag(),range(nb_growth_qbits+nb_price_qbits+1))\n",
    "            Qj_rout.apply(S_0_gate(),range(nb_growth_qbits+nb_price_qbits+1))\n",
    "            Qj_rout.apply(A_rout,range(nb_growth_qbits+nb_price_qbits+1))\n",
    "            i += 1\n",
    "        return Qj_rout\n",
    "            \n",
    "            \n",
    "    # The routine of controlled Q gates\n",
    "    rout = QRoutine()\n",
    "    for j in range(nb_eval_qbits):\n",
    "        rout.apply(Q_to_j(j).ctrl(), nb_growth_qbits + nb_price_qbits+1+j, range(nb_growth_qbits+nb_price_qbits+1))\n",
    "    \n",
    "    return rout"
   ]
  },
  {
   "cell_type": "markdown",
   "metadata": {},
   "source": [
    "## Building the circuit\n",
    "Finally, we build the whole quantum circuit."
   ]
  },
  {
   "cell_type": "code",
   "execution_count": null,
   "metadata": {},
   "outputs": [],
   "source": [
    "prog = Program()\n",
    "\n",
    "dist_qbits = prog.qalloc(nb_growth_qbits + nb_price_qbits)\n",
    "obj_qbit = prog.qalloc(1)\n",
    "eval_qbits = prog.qalloc(nb_eval_qbits)\n",
    "\n",
    "prog.apply(A_routine(),dist_qbits, obj_qbit)\n",
    "\n",
    "prog.apply(hadamard_all(nb_eval_qbits),eval_qbits)\n",
    "\n",
    "prog.apply(Q_routine(nb_eval_qbits), dist_qbits, obj_qbit, eval_qbits)\n",
    "\n",
    "prog.apply(QFT(nb_eval_qbits).dag(), eval_qbits)"
   ]
  },
  {
   "cell_type": "code",
   "execution_count": null,
   "metadata": {},
   "outputs": [],
   "source": [
    "# display the whole circuit\n",
    "circ = prog.to_circ()\n",
    "%qatdisplay circ"
   ]
  },
  {
   "cell_type": "markdown",
   "metadata": {},
   "source": [
    "## Running the full circuit on a LinAlg-simulator\n",
    "We measure only the evaluation qubits because with that information we can retrieve an approximation for $a$. For curiosity, we time the simulation."
   ]
  },
  {
   "cell_type": "code",
   "execution_count": null,
   "metadata": {},
   "outputs": [],
   "source": [
    "tic = time.perf_counter()\n",
    "result = LinAlg().submit(circ.to_job(\n",
    "                                    nbshots = 0,\n",
    "                                    qubits = range(nb_growth_qbits+nb_price_qbits+1,nb_growth_qbits+nb_price_qbits+1+nb_eval_qbits)\n",
    "                                    ))\n",
    "toc = time.perf_counter()\n",
    "sim_time = toc-tic\n",
    "print('Simulation time in seconds:',sim_time)"
   ]
  },
  {
   "cell_type": "markdown",
   "metadata": {},
   "source": [
    "Mesurement result for the evaluation qubits"
   ]
  },
  {
   "cell_type": "code",
   "execution_count": null,
   "metadata": {},
   "outputs": [],
   "source": [
    "for sample in result:\n",
    "    print(f'State: {sample.state},  amplitude: {sample.amplitude},  probability: {sample.probability}')\n",
    "    \n",
    "# Visualizing the initial measurement results\n",
    "import matplotlib.pyplot as plt\n",
    "plt.figure()\n",
    "states = [str(sample.state) for sample in result]\n",
    "probs = [sample.probability for sample in result]\n",
    "plt.bar(states,probs)\n",
    "plt.ylabel('Probability')\n",
    "plt.xticks(rotation = 60)\n",
    "plt.draw()"
   ]
  },
  {
   "cell_type": "markdown",
   "metadata": {},
   "source": [
    "## Post-processing the circuit measurement\n",
    "\n",
    "Some numerical post-processing is needed to get the approximation for $a$. First, the binary measurement result from the evaluation qubits is mapped to an approximation $\\tilde{a} = \\sin^2(y\\pi/M) \\in [0,1]$."
   ]
  },
  {
   "cell_type": "code",
   "execution_count": null,
   "metadata": {},
   "outputs": [],
   "source": [
    "# Creating an array of zeros for all state probabilities and replacing the non-zero values for measured probabilities \n",
    "all_probs = np.zeros(2**nb_eval_qbits, dtype=float)\n",
    "for sample in result:\n",
    "    state_decimal = sample.state.int\n",
    "    all_probs[state_decimal] = sample.probability\n",
    "\n",
    "# The mapping used between measured states and corresponding estimate for the probability p\n",
    "a_tildes = [np.sin(i*np.pi/(2**nb_eval_qbits))**2 for i in range(2**(nb_eval_qbits-1)+1)]\n",
    "#print(f'Possible discrete values for estimator a: \\n {a_tildes}')\n",
    "\n",
    "# Aggregating the data from different states that correspond to same probability bins\n",
    "probs =[]\n",
    "probs.append(all_probs[0])\n",
    "i = 1\n",
    "while i < 2**nb_eval_qbits/2:\n",
    "    #print(f'These states correspond to the same bin: {i} and {2**nb_eval_qbits-i}')\n",
    "    probs.append(all_probs[i] + all_probs[2**nb_eval_qbits-i])\n",
    "    i += 1\n",
    "probs.append(all_probs[2**(nb_eval_qbits-1)])\n",
    "\n",
    "\n",
    "# finding a with highest probability\n",
    "lucky_a_tilde = a_tildes[np.argmax(probs)]\n",
    "print(f'The algorithm gives an estimate a = {lucky_a_tilde}')\n",
    "\n",
    "# Plotting the results for a\n",
    "plt.figure()\n",
    "plt.bar(a_tildes, probs, width = 0.005)\n",
    "plt.ylabel('Probability')\n",
    "plt.xlabel('Estimator for a')\n",
    "plt.show()"
   ]
  },
  {
   "cell_type": "markdown",
   "metadata": {},
   "source": [
    "Then $\\tilde{a}$ is mapped back to the original function values."
   ]
  },
  {
   "cell_type": "code",
   "execution_count": null,
   "metadata": {},
   "outputs": [],
   "source": [
    "def ExpectedFx(a):\n",
    "    scaled_value = (a-1/2)/c + 1/2\n",
    "    value = scaled_value*(f_max-f_min) + f_min\n",
    "    return value\n",
    "\n",
    "# True expected value after Taylor approxmiations, calculated classically.\n",
    "true_v = 4961"
   ]
  },
  {
   "cell_type": "code",
   "execution_count": null,
   "metadata": {},
   "outputs": [],
   "source": [
    "EFx = ExpectedFx(lucky_a_tilde)\n",
    "\n",
    "print('---RESULTS---\\n'\n",
    "    f'From quantum simulation: Expected value for the 2021 price: {EFx}\\n'\n",
    "    f'Parameter c was set to {c}.\\n'\n",
    "    f'{nb_eval_qbits} evaluation qubits were used in the QPE routine.\\n'\n",
    "    f'The probability to measure the objective qubit in state 1 was approximated to {lucky_a_tilde}.')"
   ]
  },
  {
   "cell_type": "markdown",
   "metadata": {},
   "source": [
    "In order to understand the effects of the number of evaluation qubits $m$ and the scaling parameter $c$, we can plot all the values that the algorithm could output, and check how many of those values are within realistic margins."
   ]
  },
  {
   "cell_type": "code",
   "execution_count": null,
   "metadata": {},
   "outputs": [],
   "source": [
    "possible_v = [ExpectedFx(a) for a in a_tildes]\n",
    "print(possible_v)\n",
    "plt.scatter(a_tildes,possible_v,s=2)\n",
    "plt.axhline(f_min, linestyle = '--', color='g')\n",
    "plt.axhline(f_max, linestyle = '--', color='g')\n",
    "plt.show()"
   ]
  },
  {
   "cell_type": "markdown",
   "metadata": {},
   "source": [
    "## Finally, we plot the output from the experiment"
   ]
  },
  {
   "cell_type": "code",
   "execution_count": null,
   "metadata": {},
   "outputs": [],
   "source": [
    "plt.bar(possible_v,probs, width = 30)\n",
    "plt.xlim(f_min, f_max)\n",
    "plt.ylim(0,1)\n",
    "plt.xlabel(r'$V_{2021}$', fontsize = '12')\n",
    "plt.ylabel('Probability', fontsize = '12')\n",
    "plt.tick_params(axis='both', which='major', labelsize='11')\n",
    "textstr = '\\n'.join((f'c = {c}',f'$m = ${nb_eval_qbits}', f'$M = ${2**nb_eval_qbits}', r'$\\mathbb{E}(V_{2021}) = %.0f$' % np.round(EFx,0)))\n",
    "plt.text(0.75*f_max,0.7, textstr, fontsize ='13')\n",
    "plt.axvline(x = true_v,linestyle = '--', color = 'r')\n",
    "#filename = f'housing_price_c{str(c).replace(\".\",\"\")}_m{nb_eval_qbits}'\n",
    "#plt.savefig(filename, dpi = 300)\n",
    "plt.plot()"
   ]
  },
  {
   "cell_type": "markdown",
   "metadata": {},
   "source": [
    "The red line is drawn at 4961 EUR, which is the classically calculated value after approximations used in the algorithm. The exact value was 5009 EUR. With different number of evaluation qubits and different value for $c$ the algorithm gives varying results, but in each case it finds a relatively good approximate. Go ahead and try the algorithm with different values of evaluation qubits and  $c \\in (0,1]$. These are defined in the QPE and objective function sections."
   ]
  },
  {
   "cell_type": "markdown",
   "metadata": {},
   "source": [
    "# That's it!\n",
    "\n",
    "Our demonstration of the Quantum Amplitude Estimation is now finished. "
   ]
  }
 ],
 "metadata": {
  "kernelspec": {
   "display_name": "Python 3",
   "language": "python",
   "name": "python3"
  },
  "language_info": {
   "codemirror_mode": {
    "name": "ipython",
    "version": 3
   },
   "file_extension": ".py",
   "mimetype": "text/x-python",
   "name": "python",
   "nbconvert_exporter": "python",
   "pygments_lexer": "ipython3",
   "version": "3.6.8"
  }
 },
 "nbformat": 4,
 "nbformat_minor": 4
}
