{
 "cells": [
  {
   "cell_type": "markdown",
   "metadata": {},
   "source": [
    "Notebook version 1.0, 31 Aug 2021. Written by Otto Salmenkivi / CSC - IT Center for Science Ltd. otto.salmenkivi@gmail.com\n",
    "\n",
    "Licensed under the MIT license: http://www.opensource.org/licenses/mit-license.php\n",
    "\n",
    "Tested on Kvasi, running QLM version 1.2.1: https://research.csc.fi/-/kvasi\n",
    "***\n",
    "# Quantum Algorithm for calculating the expected value from a probability distribution\n",
    "\n",
    "In this notebook we employ the [Quantum Amplitude Estimation][1] (QAE) algorithm to estimate the expected value of a probability distribution. The QAE algorithm can theoretically provide a quadratic speed-up compared to similar classical calculations. The algorithm consist of the following parts:\n",
    "- Distribution loading with $D$ gate to `nb_dist_qbits` number of qubits\n",
    "- $F$ gate representing the objective function\n",
    "- A Quantum Phase Estimation protocol that utilizes `nb_eval_qbits` number of qubits\n",
    "\n",
    "We have a discrete variable $i \\in \\{0,1,2,3\\}$, that we map to quantum states $|00\\rangle$, $|01\\rangle$, $|10\\rangle$ and $|11\\rangle$. The values and therefore the states have probabilities $\\frac{1}{2}$, $\\frac{1}{4}$, $\\frac{1}{6}$ and $\\frac{1}{12}$, respectively. We can easily calculate the expected value:\n",
    "\\begin{equation}\n",
    "    \\mathbb{E}[i] = \\sum_i p_i\\cdot i = \\dfrac{1}{2}\\cdot 0 + \\dfrac{1}{4} \\cdot 1 + \\dfrac{1}{6} \\cdot 2 + \\dfrac{1}{12} \\cdot 3 \\approx 0,83\\,.\n",
    "\\end{equation}\n",
    "Our task is to approximate the value above with a quantum algorithm.\n",
    "\n",
    "[1]: https://arxiv.org/abs/quant-ph/0005055"
   ]
  },
  {
   "cell_type": "markdown",
   "metadata": {},
   "source": [
    "We begin by importing the libraries needed"
   ]
  },
  {
   "cell_type": "code",
   "execution_count": null,
   "metadata": {},
   "outputs": [],
   "source": [
    "from qat.lang.AQASM import Program, QRoutine, AbstractGate, H, SWAP\n",
    "from qat.lang.AQASM.qftarith import QFT\n",
    "from qat.qpus import LinAlg\n",
    "import numpy as np\n",
    "import matplotlib.pyplot as plt"
   ]
  },
  {
   "cell_type": "code",
   "execution_count": null,
   "metadata": {},
   "outputs": [],
   "source": [
    "# Defining number of qubits used in the algorithm\n",
    "nb_eval_qbits = 6\n",
    "nb_dist_qbits= 2 # Cannot be changed because Distribution is hand-build for 2 qubits\n",
    "\n",
    "# Initializing abstract Distribution, F and Q gates\n",
    "D_gate = AbstractGate(\"D\", [], arity = nb_dist_qbits)\n",
    "F_gate = AbstractGate(\"F\", [], arity = nb_dist_qbits + 1)\n",
    "Q_gate = AbstractGate(\"Q\", [int], arity = nb_dist_qbits + 1)\n",
    "\n",
    "# Constants\n",
    "c = 1/2    # c is a constant used in a linear approximation in the QAE algoritm, defined within (0,1]"
   ]
  },
  {
   "cell_type": "markdown",
   "metadata": {},
   "source": [
    "## D gate: Loading the uncertainty distribution to 2 qubits with parametrized RY gate matrices  \n",
    "The integers $i \\in \\{0,1,2,3\\}$ are mapped to a register of two qubits so that $i = 2i_0 + i_1$. Indexing follows the QLM convention.\n",
    "\n",
    "We create matrices corresponding to the $R_y$ gates and calculate the resulting matrix, we call it $D$ gate. The values for the rotation angles were chosen to correspond with probabilities mentioned earlier."
   ]
  },
  {
   "cell_type": "code",
   "execution_count": null,
   "metadata": {},
   "outputs": [],
   "source": [
    "# Matrix of the standard RY gate\n",
    "def ry_matrix(theta):\n",
    "    return np.array([[np.cos(theta/2),-np.sin(theta/2)],[np.sin(theta/2),np.cos(theta/2)]])\n",
    "\n",
    "# The resulting matrix of two RY gates acting on q_0 and q_1 respectively\n",
    "def D_matrix():\n",
    "    theta0 = 2*np.arccos(np.sqrt(2/3))\n",
    "    theta1 = np.pi/3\n",
    "    matrix = np.kron(ry_matrix(theta1), ry_matrix(theta0))\n",
    "    return matrix\n",
    "\n",
    "# Attach matrix to gate\n",
    "D_gate.set_matrix_generator(D_matrix)"
   ]
  },
  {
   "cell_type": "markdown",
   "metadata": {},
   "source": [
    "## F gate \n",
    "Next task is to build the matrix for the $F$ gate that acts on the objective qubit controlled by the distribution qubits.  The key is to flip the objective qubit with parametrised $R_y$-gates. The goal is to change the probability of measuring the objective qubit in state $|1\\rangle$, let's call it $a$.\n",
    "\n",
    "Because we are approximating the expected value of the variable itself, we define our objective function as $f(i) = i$. For the F operator though, we need to normalise it to $[0,1]$, so we get $\\tilde{f}(i) = \\dfrac{i}{3}$. \n",
    "\n",
    "For more information on building the circuit for the objective function, see [Stamatopoulus et al. 2020][1]. Here are the highlights:\n",
    "\n",
    "With the $F$ operator we want to create the following tranformation:\n",
    "\\begin{equation}\n",
    "    |i_0i_1\\rangle|0\\rangle \\rightarrow |i_0i_1\\rangle\\big(\\cos[f(i)]|0\\rangle + \\sin[f(i)]|1\\rangle\\big).\n",
    "\\end{equation}\n",
    "Register $|i_0i_1\\rangle$ is used for the distribution and the objective qubit is prepared in the zero state. Instead of using $\\tilde{f}(i)$, we need to set the function as\n",
    "\\begin{equation}\n",
    "    f(i) = c\\left(2\\cdot\\dfrac{i}{3}-1 \\right) + \\dfrac{\\pi}{4}\\,,\n",
    "\\end{equation}\n",
    "where $c \\in (0,1]$ is a constant used in a linear approximation. By using $i = 2i_0 + i_1$, we get\n",
    "\\begin{equation}\n",
    "    \\dfrac{4c}{3}i_0 + \\dfrac{2c}{3}i_1 - c + \\dfrac{\\pi}{4} \\,.\n",
    "\\end{equation}\n",
    "The operator is constructed from $R_y$ gates. The constant term is achieved by operating with $R_y\\left(-c + \\frac{\\pi}{4}\\right)$ on the objective qubits. The linear terms are implemented with controlled gates. A $R_y\\left(\\frac{4c}{3}\\right)$ gate, controlled by $i_0$, and a $R_y\\left(\\frac{2c}{3}\\right)$ gate, controlled by $i_1$, are applied on the objective.\n",
    "\n",
    "The reason for this procedure is that with the probability to measure the last qubit in state $|1\\rangle$ is related to the expected value of the objective function. We have\n",
    "\\begin{align}\n",
    "    a &= \\mathbb{E}[f(i)] = \\mathbb{E}\\left[c\\left(2\\cdot\\dfrac{i}{3}-1 \\right) + \\dfrac{\\pi}{4}\\right]\\\\\n",
    "    \\Leftrightarrow \\quad \\mathbb{E}[i] &= \\dfrac{3}{2}\\left(\\dfrac{a-\\frac{1}{2}}{c} + 1 \\right)\\,.\n",
    "\\end{align}\n",
    "\n",
    "\n",
    "We could easily build the $F$ operator with individual gates, but we choose to use matrix definitions and the `AbstractGate` class instead. This is because we need to have the matrix representation when building the $A$ and $Q$ gates in the following sections\n",
    "\n",
    "\n",
    "[1]: https://arxiv.org/pdf/1905.02666.pdf\n"
   ]
  },
  {
   "cell_type": "code",
   "execution_count": null,
   "metadata": {},
   "outputs": [],
   "source": [
    "# A 8x8 matrix that correspond to identity on first two qubist and a Ry on the last\n",
    "def only_ry(theta):\n",
    "    return np.kron(np.identity(4),ry_matrix(2*theta)) # The angle is doubled due to different definitions on RY matrix\n",
    "\n",
    "# For the second gate matrix we need a matrix representation of a controlled RY,\n",
    "# where the qubits are not adjecent\n",
    "def cry_0to2(theta):\n",
    "    theta = 2*theta # Again, doubled due to different matrix definitions\n",
    "    matrix = np.array([[1,0,0,0,0,0,0,0],\n",
    "                       [0,1,0,0,0,0,0,0],\n",
    "                       [0,0,1,0,0,0,0,0],\n",
    "                       [0,0,0,1,0,0,0,0],\n",
    "                       [0,0,0,0,np.cos(theta/2),-np.sin(theta/2),0,0],\n",
    "                       [0,0,0,0,np.sin(theta/2),np.cos(theta/2),0,0],\n",
    "                       [0,0,0,0,0,0,np.cos(theta/2),-np.sin(theta/2)],\n",
    "                       [0,0,0,0,0,0,np.sin(theta/2),np.cos(theta/2)]])\n",
    "    return matrix\n",
    "\n",
    "# controlled RY when most significant is control\n",
    "def cry_1to2(theta):\n",
    "    theta = 2*theta # Again, doubled due to different matrix definitions\n",
    "    cry_matrix= np.array([[1,0,0,0],\n",
    "                          [0,1,0,0],\n",
    "                          [0,0,np.cos(theta/2),-np.sin(theta/2)],\n",
    "                          [0,0,np.sin(theta/2),np.cos(theta/2)]])\n",
    "    matrix = np.kron(np.identity(2),cry_matrix)\n",
    "    return matrix\n",
    "\n",
    "# combining all three\n",
    "def F_matrix():\n",
    "    f_1 = 2*c/3\n",
    "    f_0 = - c + np.pi/4\n",
    "    matrix = np.matmul(cry_0to2(2*f_1),np.matmul(cry_1to2(f_1),only_ry(f_0)))\n",
    "    return matrix\n",
    "\n",
    "# attach to gate\n",
    "F_gate.set_matrix_generator(F_matrix) "
   ]
  },
  {
   "cell_type": "markdown",
   "metadata": {},
   "source": [
    "## A gate\n",
    "Before the $Q$ gates, we need calculate the matrix $A$, which is the effective operator of both $D$ and $F$ gate on the objective and the distribution qubits. That is\n",
    "\\begin{equation}\n",
    "    A|q_{0}q_{1}q_{obj}\\rangle = F \\cdot (D \\otimes I)|q_0q_1q_{obj}\\rangle\\,.\n",
    "\\end{equation}"
   ]
  },
  {
   "cell_type": "code",
   "execution_count": null,
   "metadata": {},
   "outputs": [],
   "source": [
    "def make_A_matrix():\n",
    "    return np.matmul(F_matrix(),np.kron(D_matrix(),np.identity(2)))"
   ]
  },
  {
   "cell_type": "markdown",
   "metadata": {},
   "source": [
    "To get the statevector $|\\psi\\rangle$ needed in the contruction of $Q$, we can run the $A$ gate separately an measure only the distribution qubits."
   ]
  },
  {
   "cell_type": "code",
   "execution_count": null,
   "metadata": {},
   "outputs": [],
   "source": [
    "# Run a program with only A gate\n",
    "sv_prog = Program()\n",
    "sv_qbits = sv_prog.qalloc(nb_dist_qbits+1)\n",
    "A_gate = AbstractGate(\"A\",[],arity = nb_dist_qbits+1,matrix_generator = make_A_matrix)\n",
    "sv_prog.apply(A_gate(),sv_qbits)\n",
    "A_result = LinAlg().submit(sv_prog.to_circ().to_job())\n",
    "\n",
    "# get statevector from results\n",
    "sv = A_result.statevector\n",
    "print(f'Whole statevector after A gate:\\n{sv}')\n",
    "\n",
    "# Extract state correponding with last qubit states 0 and 1\n",
    "psi_0 = []\n",
    "psi_1 = []\n",
    "for i in range(2**(nb_dist_qbits)):\n",
    "    psi_0.append(sv[2*i])\n",
    "    psi_1.append(sv[2*i+1])\n",
    "\n",
    "a = sum([abs(i)**2 for i in psi_1])\n",
    "print('The probability to measure the last qubit in state 1 based in the statevector is ',a)\n",
    "\n",
    "print('Full measurement results after A gate:')\n",
    "plt.figure()\n",
    "states = [str(sample.state) for sample in A_result]\n",
    "probs = [sample.probability for sample in A_result]\n",
    "plt.bar(states,probs)\n",
    "plt.ylabel('Probability')\n",
    "plt.xticks(rotation = 60)\n",
    "plt.draw()"
   ]
  },
  {
   "cell_type": "markdown",
   "metadata": {},
   "source": [
    "At this point, we can already check the results from our quantum circuit, because we have a value for $a$, which we can trace back to the expected value.\n",
    "\n",
    "This can be considered cheating, because this method does not provide a computatinal speed up. The point of the QAE algorithm is to get an approximation in a way that the approximation error converges quadratically faster than just by repeating the measument for the $A$ gate. But anyway, since our circuits are so small, we can use this cheat as a comparison."
   ]
  },
  {
   "cell_type": "code",
   "execution_count": null,
   "metadata": {},
   "outputs": [],
   "source": [
    "# Calculating Expected value based on value a that we can recover in the previous cell\n",
    "def ExpectedFx(a):\n",
    "    return 3*((a-1/2)/c+1)/2\n",
    "\n",
    "print('Expected value for V from repeated A gates:',ExpectedFx(a),'.\\n'\n",
    "     'It is quite close to the true value.')\n"
   ]
  },
  {
   "cell_type": "markdown",
   "metadata": {},
   "source": [
    "## The QPE and the Q gates\n",
    "\n",
    "Quantum Phase estimation is well used tool in the world of quantum algorithms. For it we need additional evaluation qubits, the $Q$ gate and an inverse Quantum Fourier Transform. In addition, we need to flip the register before the inverse QFT.\n",
    "\n",
    "The $Q$ gate is defined as $Q = AS_0A^{\\dagger}S_{\\psi_0}$, where $S_0 = I-2|0\\rangle_{n+1}\\langle0|_{n+1}$ and $S_{\\psi_0} = I-2|\\psi_0\\rangle_n|0\\rangle\\langle\\psi_0|_n\\langle0|$ are reflections in the statevector space to amplify the \"good\" states, defined by the last qubit in state $|1\\rangle$. Different powers of $Q^{2^j}$ gates are applied to the distribution and objective registers, when $j$ is the index of the control qubit in the evaluation register (reversed in the QLM convention)."
   ]
  },
  {
   "cell_type": "code",
   "execution_count": null,
   "metadata": {},
   "outputs": [],
   "source": [
    "# Creating a matrix representation of Q based on Woerner & Egger 2018 Appendix A\n",
    "def Q_matrix(j):\n",
    "    A_matrix = make_A_matrix()\n",
    "    statevector_psi = psi_0\n",
    "    \n",
    "    # We renormalize psi_0\n",
    "    n = len(statevector_psi)\n",
    "    statevector_sum = sum([abs(i)**2 for i in statevector_psi])\n",
    "    for i in range(n):\n",
    "        statevector_psi[i]  = statevector_psi[i]/np.sqrt(statevector_sum)\n",
    "    \n",
    "    # Preparing the needed states |0> and <0| as numpy arrays\n",
    "    ket_zero = np.array([[1],[0]],dtype=complex)\n",
    "    bra_zero = np.conjugate(np.transpose(ket_zero))\n",
    "    \n",
    "    #Preparing states |0>_n and <0|_n\n",
    "    ket_zero_n = np.zeros((2*n,1),dtype= complex)\n",
    "    ket_zero_n[0][0] = 1\n",
    "    bra_zero_n = np.conjugate(np.transpose(ket_zero_n))\n",
    "    \n",
    "    # States |psi> and <psi| as numpy array based on input statevector\n",
    "    ket_psi = np.zeros((n,1), dtype=complex)\n",
    "    for i,amp in enumerate(statevector_psi):\n",
    "        ket_psi[i][0] = amp\n",
    "    \n",
    "    bra_psi = np.conjugate(np.transpose(ket_psi))\n",
    "    \n",
    "\n",
    "    # Calculating the parentheses on the Q operator equation\n",
    "    I = np.identity(2*n)\n",
    "    first_parenthesis = I-2*np.matmul(ket_zero_n,bra_zero_n)\n",
    "    second_parenthesis = I-2*np.matmul(np.kron(ket_psi,ket_zero),np.kron(bra_psi,bra_zero))\n",
    "    \n",
    "    # The Hermitian conjugate of operator A\n",
    "    A_matrix_dag = np.conjugate(np.transpose(A_matrix))\n",
    "    \n",
    "    # Calculating the power based on parameter j\n",
    "    single_matrix = np.matmul(A_matrix,np.matmul(first_parenthesis,np.matmul(A_matrix_dag,second_parenthesis)))\n",
    "    Q_matrix = single_matrix\n",
    "    i = 0\n",
    "    while i < 2**j-1:\n",
    "        Q_matrix = np.matmul(single_matrix,Q_matrix)\n",
    "        i += 1\n",
    "    return Q_matrix\n",
    "\n",
    "# Attach to gate\n",
    "Q_gate.set_matrix_generator(Q_matrix)"
   ]
  },
  {
   "cell_type": "code",
   "execution_count": null,
   "metadata": {},
   "outputs": [],
   "source": [
    "# Do SWAPS\n",
    "def swap_register(m):\n",
    "    rout = QRoutine()\n",
    "    i = 1\n",
    "    while i <= m/2:\n",
    "        rout.apply(SWAP, i-1, m-i)\n",
    "        i += 1\n",
    "    return rout"
   ]
  },
  {
   "cell_type": "code",
   "execution_count": null,
   "metadata": {},
   "outputs": [],
   "source": [
    "# function to apply Hadamard gates multiple qubits\n",
    "def hadamard_all(nbqbits):\n",
    "    rout = QRoutine()\n",
    "    for i in range(nbqbits):\n",
    "        rout.apply(H,i)\n",
    "    return rout"
   ]
  },
  {
   "cell_type": "markdown",
   "metadata": {},
   "source": [
    "## It's time to build the whole circuit.\n",
    "We have defined all the pieces we need, so let's build the circuit."
   ]
  },
  {
   "cell_type": "code",
   "execution_count": null,
   "metadata": {},
   "outputs": [],
   "source": [
    "def create_the_routine(nb_eval_qbits,nb_dist_qbits):\n",
    "    rout = QRoutine()\n",
    "    # Distribution qubits\n",
    "    dist_qbits = rout.new_wires(nb_dist_qbits)    \n",
    "    # The objective qbit\n",
    "    obj_qbit = rout.new_wires(1)\n",
    "    # Evaluation qubits\n",
    "    eval_qbits = rout.new_wires(nb_eval_qbits)\n",
    "    # Hadamards to evaluation qubits\n",
    "    rout.apply(hadamard_all(nb_eval_qbits),eval_qbits)\n",
    "    # D gate to distribution qubits based on distribution parameters\n",
    "    rout.apply(D_gate(), dist_qbits)\n",
    "    # F gate to objective and distribution qubits\n",
    "    rout.apply(F_gate(),dist_qbits, obj_qbit)\n",
    "    # A range of Q qates\n",
    "    for j in range(nb_eval_qbits):\n",
    "        rout.apply(Q_gate(j).ctrl(), eval_qbits[nb_eval_qbits-1-j], dist_qbits, obj_qbit)\n",
    "    # Flip the register\n",
    "    if nb_eval_qbits > 1 : rout.apply(swap_register(nb_eval_qbits), eval_qbits)\n",
    "    # Apply inverse QFT\n",
    "    rout.apply(QFT(nb_eval_qbits).dag(),eval_qbits)\n",
    "    return rout"
   ]
  },
  {
   "cell_type": "code",
   "execution_count": null,
   "metadata": {},
   "outputs": [],
   "source": [
    "prog = Program()\n",
    "qbits = prog.qalloc(nb_eval_qbits+nb_dist_qbits+1)\n",
    "prog.apply(create_the_routine(nb_eval_qbits,nb_dist_qbits),qbits)\n",
    "circuit = prog.to_circ()\n",
    "%qatdisplay circuit"
   ]
  },
  {
   "cell_type": "markdown",
   "metadata": {},
   "source": [
    "Let's print the results from simulating the circuit above with a LinAlg simulator."
   ]
  },
  {
   "cell_type": "code",
   "execution_count": null,
   "metadata": {
    "scrolled": true
   },
   "outputs": [],
   "source": [
    "result = LinAlg().submit(circuit.to_job(nbshots = 0, qubits = range(3,3+nb_eval_qbits)))\n",
    "for sample in result:\n",
    "    print(f'State: {sample.state},  amplitude: {sample.amplitude},  probability: {sample.probability}')\n",
    "    \n",
    "# Visualizing the initial measurement results\n",
    "import matplotlib.pyplot as plt\n",
    "plt.figure()\n",
    "states = [str(sample.state) for sample in result]\n",
    "probs = [sample.probability for sample in result]\n",
    "plt.bar(states,probs)\n",
    "plt.ylabel('Probability')\n",
    "plt.xlabel('States')\n",
    "plt.xticks(rotation = 60)\n",
    "plt.draw()"
   ]
  },
  {
   "cell_type": "markdown",
   "metadata": {},
   "source": [
    "## Post-prosessing the measurement results\n",
    "\n",
    "The measurent gives integers $y$ which need to be mapped to an estimator $\\tilde{a} = \\sin^2(y\\pi/M) \\in [0,1]$."
   ]
  },
  {
   "cell_type": "code",
   "execution_count": null,
   "metadata": {
    "scrolled": true
   },
   "outputs": [],
   "source": [
    "# Creating an array of zeros for all state probabilities and replacing the non-zero values for measured probabilities \n",
    "all_probs = np.zeros(2**nb_eval_qbits, dtype=float)\n",
    "for sample in result:\n",
    "    state_decimal = sample.state.int\n",
    "    all_probs[state_decimal] = sample.probability\n",
    "\n",
    "# The mapping used between measured states and corresponding estimate for the probability p\n",
    "a_tildes = [np.sin(i*np.pi/(2**nb_eval_qbits))**2 for i in range(2**(nb_eval_qbits-1)+1)]\n",
    "\n",
    "# Aggregating the data from different states that correspond to same probability bins\n",
    "probs =[]\n",
    "probs.append(all_probs[0])\n",
    "i = 1\n",
    "while i < 2**nb_eval_qbits/2:\n",
    "    #print(f'These states correspond to the same bin: {i} and {2**nb_eval_qbits-i}')\n",
    "    probs.append(all_probs[i] + all_probs[2**nb_eval_qbits-i])\n",
    "    i += 1\n",
    "probs.append(all_probs[2**(nb_eval_qbits-1)])\n",
    "\n",
    "# finding a with highest probability\n",
    "lucky_a_tilde = a_tildes[np.argmax(probs)]\n",
    "print(f'The algorithm gives an estimate a = {lucky_a_tilde}')"
   ]
  },
  {
   "cell_type": "markdown",
   "metadata": {},
   "source": [
    "We can visualise the end results by plotting the discrete probability distribution of $\\tilde{a}$. We can also display the same distribution as a function of $\\mathbb{E}[i]$ and show the true value (red line)."
   ]
  },
  {
   "cell_type": "code",
   "execution_count": null,
   "metadata": {},
   "outputs": [],
   "source": [
    "plt.figure()\n",
    "plt.bar(a_tildes, probs, width = 0.025)\n",
    "plt.ylabel('Probability')\n",
    "plt.xlabel('Estimator for a')\n",
    "plt.plot()\n",
    "\n",
    "plt.figure()\n",
    "plt.bar([ExpectedFx(a_tilde) for a_tilde in a_tildes], probs, width = 0.05)\n",
    "plt.ylabel('Probability')\n",
    "plt.xlabel(r'E[i]')\n",
    "plt.axvline(x=0.8333, color = 'r', linestyle = '--', linewidth = 2 )\n",
    "plt.xlim(0,4)\n",
    "plt.plot()\n",
    "\n",
    "print(f'The best approximation for expected value for i = {ExpectedFx(lucky_a_tilde)}')"
   ]
  },
  {
   "cell_type": "markdown",
   "metadata": {},
   "source": [
    "## The end\n",
    "And there you have it!  We started from a probability distribution for a discrete variable and calculated the expected value for it using the QAE algorithm. Next step could be to approximate some linear function based on the variable, and mayde make it more interesting by using multiple variables each with a different probability distributions."
   ]
  }
 ],
 "metadata": {
  "kernelspec": {
   "display_name": "Python 3",
   "language": "python",
   "name": "python3"
  },
  "language_info": {
   "codemirror_mode": {
    "name": "ipython",
    "version": 3
   },
   "file_extension": ".py",
   "mimetype": "text/x-python",
   "name": "python",
   "nbconvert_exporter": "python",
   "pygments_lexer": "ipython3",
   "version": "3.6.8"
  }
 },
 "nbformat": 4,
 "nbformat_minor": 4
}
