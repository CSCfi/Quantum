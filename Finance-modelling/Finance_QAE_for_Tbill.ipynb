{
 "cells": [
  {
   "cell_type": "markdown",
   "metadata": {},
   "source": [
    "Notebook version 1.0, 31 Aug 2021. Written by Otto Salmenkivi / CSC - IT Center for Science Ltd. otto.salmenkivi@gmail.com\n",
    "\n",
    "Licensed under the MIT license: http://www.opensource.org/licenses/mit-license.php\n",
    "\n",
    "Tested on Kvasi, running QLM version 1.2.1: https://research.csc.fi/-/kvasi\n",
    "***\n",
    "# Quantum algorithm for T-Bill expected value\n",
    "Based on Woener and Egger, 2018: https://arxiv.org/abs/1806.06893 \n",
    "\n",
    "In this notebook we implement the calculation of the expectation value of a US Treasury bill. The zero coupon T-bill has a face value $V_F$ and is discounted at an interest rate $r$.  We want to calculate the value at a later time step given that there is a $p$ probability that the interest is constant, and $1-p$ probability that the interest rises to $r+\\delta r$. Therefore the T-bill has a value of\n",
    "<div class='math'>\n",
    "            \\begin{equation}\n",
    "            V = \\dfrac{(1-p)V_F}{1+r+\\delta r} + \\dfrac{pV_F}{1+r} = (1-p)V_{\\text{low}} + pV_\\text{high}.\n",
    "            \\end{equation}\n",
    "\n",
    "We set $p = 30\\%$. The values for $V$ need to be mapped to qubits. In this simplified demonstration in order to use only one qubit for the distribution of $V$, we map $ V_\\text{low} = 0\\: \\$ $ and $ V_\\text{high} = 1\\: \\$ $. These correspond to the states $|0\\rangle$ and $|1\\rangle$, respectively.\n",
    "    \n",
    "We use Quantum Amplitude Estimation to calculate the value of the T-bill. QAE is build from four components:\n",
    "- initial superposition of evaluation qubits with Hadamard gates\n",
    "- an $A$ gate that encodes the distribution of the possible outcomes for $V$ with corresponding probabilities and the objective function\n",
    "- a $Q$ gate based on $A$ and the number of evaluation qubits\n",
    "-  an inverse Quantum Fourier Transform.\n",
    "    \n",
    "In our simple case the $A$ gate is defined as $A =R_y(\\theta)$, where $\\theta = 2\\sin^{-1}(\\sqrt{p})$, i.e. it's merely a rotation around the y-axis parametrized by the probability $p$. Therefore it acts as $A|0\\rangle = \\sqrt{1-p}|0\\rangle + \\sqrt{p}|1\\rangle$, and respresents both the uncertainty distribution and the objective of our algorithm. Another gate needed is the amplitude estimation operator $Q$. Again, for us it simplifies to $Q = AZA^{\\dagger}Z = R_y(2\\theta)$. Powers of this gate are controllably applied $m$ times to the objective qubit, where $m$ is the number of evaluation qubits. These qubits are responsible for the accuracy and resolution of the estimate. The controlled gates are of form $ Q^{2^j} = R_y(2^{j+1}\\theta)$, where $j \\in \\{0,\\ldots,m-1\\}$.\n",
    "   "
   ]
  },
  {
   "cell_type": "markdown",
   "metadata": {},
   "source": [
    "We begin by importing the libraries needed."
   ]
  },
  {
   "cell_type": "code",
   "execution_count": null,
   "metadata": {},
   "outputs": [],
   "source": [
    "from qat.lang.AQASM import Program, QRoutine, H, RY, SWAP\n",
    "from qat.lang.AQASM.qftarith import QFT\n",
    "import numpy as np"
   ]
  },
  {
   "cell_type": "markdown",
   "metadata": {},
   "source": [
    "In the following we define two functions that return `QRoutine` objects. First applies a Hadamard gate to each evaluation qubit and the second builds the controlled $Q$ gates."
   ]
  },
  {
   "cell_type": "code",
   "execution_count": null,
   "metadata": {},
   "outputs": [],
   "source": [
    "def hadamard_all(nbqbits):\n",
    "    rout = QRoutine()\n",
    "    for i in range(nbqbits):\n",
    "        rout.apply(H,i)\n",
    "    return rout"
   ]
  },
  {
   "cell_type": "code",
   "execution_count": null,
   "metadata": {},
   "outputs": [],
   "source": [
    "# Function for creating the Q^2^j gates\n",
    "def Q_gates(m):\n",
    "    rout = QRoutine()\n",
    "    wires = rout.new_wires(m)\n",
    "    single_wire = rout.new_wires(1)\n",
    "    for i in range(m):\n",
    "        angle = 2**(i+1)*theta_p % (4*np.pi)  # the modulo operator % is not necessary. RY repeats every 4*pi\n",
    "        rout.apply(RY(angle).ctrl(), wires[i], single_wire)\n",
    "    return rout"
   ]
  },
  {
   "cell_type": "markdown",
   "metadata": {},
   "source": [
    "The probalitity $p$ and number of evaluation qubits $m$ can be changed below. The circuit is build based on those values. "
   ]
  },
  {
   "cell_type": "code",
   "execution_count": null,
   "metadata": {},
   "outputs": [],
   "source": [
    "p = 0.3                            # Probability\n",
    "theta_p = 2*np.arcsin(np.sqrt(p))  # And the related angle for Q gates\n",
    "m = 7                              # Number of evaluation qubits\n",
    "\n",
    "# initiation\n",
    "prog = Program()\n",
    "m_qbits = prog.qalloc(m)\n",
    "single_qbit = prog.qalloc(1)\n",
    "\n",
    "# Hadamard to all evaluation qubits\n",
    "prog.apply(hadamard_all(m),m_qbits)\n",
    "\n",
    "# The A gate \n",
    "prog.apply(RY(theta_p),single_qbit)\n",
    "\n",
    "# Applying Q gates\n",
    "prog.apply(Q_gates(m), m_qbits , single_qbit)\n",
    "\n",
    "# Inverse Quantum Fourier Transform\n",
    "prog.apply(QFT(m).dag(),m_qbits)\n",
    "\n",
    "circuit = prog.to_circ()\n",
    "%qatdisplay circuit"
   ]
  },
  {
   "cell_type": "markdown",
   "metadata": {},
   "source": [
    "The circuit for the algorithm is now ready. Let's run it on the simulator and print the initial results. The useful information is stored in the evaluation qubits, so we ignore the last qubit in the measurement."
   ]
  },
  {
   "cell_type": "code",
   "execution_count": null,
   "metadata": {},
   "outputs": [],
   "source": [
    "# Running the circuit\n",
    "from qat.qpus import LinAlg\n",
    "nbshots = 0\n",
    "job = circuit.to_job(qubits = m_qbits, nbshots = nbshots)\n",
    "result = LinAlg().submit(job)\n",
    "\n",
    "for sample in result:\n",
    "    print(f'State: {sample.state},  amplitude: {sample.amplitude},  probability: {sample.probability}')\n",
    "\n",
    "# Visualizing the initial measurement results\n",
    "import matplotlib.pyplot as plt\n",
    "plt.figure()\n",
    "states = [str(sample.state) for sample in result]\n",
    "probs = [sample.probability for sample in result]\n",
    "plt.bar(states,probs)\n",
    "plt.ylabel('Probability')\n",
    "plt.xticks(rotation = 60)\n",
    "plt.draw()"
   ]
  },
  {
   "cell_type": "markdown",
   "metadata": {},
   "source": [
    "The measurement results correspond to integers $y \\in \\{0,\\ldots,M-1\\}$, where $M = m^2$. These a mapped to the estimator $\\tilde{p} = \\sin^2(y\\pi/M) \\in [0,1]$. The estimator converges to $p$ in $O(M^{-1})$, which is quadratically faster than classical Monte Carlo methods and at the root of the proposed computational speed-up.\n",
    "\n",
    "We do the post-processing below. Since the results contain only measured states, we create a new array and fill in the missing zero amplitudes. It is also noteworthy that multiple states correspond to the same estimator value due to the periodic nature of the $sin$ function.\n"
   ]
  },
  {
   "cell_type": "code",
   "execution_count": null,
   "metadata": {},
   "outputs": [],
   "source": [
    "# Creating an array of zeros for all state probabilities and replacing the non-zero values for measured probabilities \n",
    "probs = np.zeros(2**m, dtype=float)\n",
    "for sample in result:\n",
    "    state_decimal = sample.state.int\n",
    "    probs[state_decimal] = sample.probability\n",
    "\n",
    "# The mapping used between measured states and corresponding estimate for the probability p\n",
    "p_tilde = [np.round(np.sin(i*np.pi/(2**m))**2,3) for i in range(2**(m-1)+1)]\n",
    "print(f'Possible values for the approximation: \\n {p_tilde}')\n",
    "print(f'{len(p_tilde)} possibilities in total.')\n",
    "# Aggregating the data from different states that correspond to sama probability bins\n",
    "freqs =[]\n",
    "freqs.append(probs[0])\n",
    "i = 1\n",
    "while i < 2**m/2:\n",
    "    # print(f'These states correspond to the same bin: {i} and {2**m-i}')\n",
    "    freqs.append(probs[i] + probs[2**m-i])\n",
    "    i += 1\n",
    "freqs.append(probs[2**(m-1)])\n",
    "\n",
    "# finding p with max frequency\n",
    "max_freq = p_tilde[np.argmax(freqs)]"
   ]
  },
  {
   "cell_type": "markdown",
   "metadata": {},
   "source": [
    "That's all the computation and calculation we need to do. Let's finish the notebook by printing the circuit again and by visualizing the final results."
   ]
  },
  {
   "cell_type": "code",
   "execution_count": null,
   "metadata": {},
   "outputs": [],
   "source": [
    "print(f'Probability was set to {p} and {m} evaluation qubits were used.')\n",
    "print('The circuit built for the estimation on T-bill value using QAA:')\n",
    "%qatdisplay circuit\n",
    "\n",
    "print(f'The highest peak is at p = {max_freq}.')\n",
    "\n",
    "print('The final results after calculating the mapping.\\n The red line represents the target value.')\n",
    "plt.figure()\n",
    "plt.bar(p_tilde, freqs, width = 0.01, color = 'royalblue')\n",
    "plt.ylim(0,1)\n",
    "#plt.xlim(0.1,0.5)\n",
    "plt.axvline(x=0.3, color = 'r', linestyle = '--', linewidth = 3 )\n",
    "plt.xlabel(r'$\\tilde{p}$',fontsize = '12')\n",
    "plt.ylabel(' Todennäköisyys ',fontsize = '12')\n",
    "plt.tick_params(axis='both', which='major', labelsize='11')\n",
    "textstr = '\\n'.join((f'$m=${m}',f'$M=${2**m}', r'$\\tilde{p} \\approx %.3f$' % (max_freq, )))\n",
    "plt.text(0.4,0.75, textstr, fontsize = '13')\n",
    "filename = f'velkakujaava_m{m}'\n",
    "#plt.savefig(filename, dpi = 300)\n",
    "plt.plot()"
   ]
  },
  {
   "cell_type": "markdown",
   "metadata": {},
   "source": [
    "A clear peak close to the set probability $p$ should be visible. Resolution and accuracy grows with evaluation qubits. Since we had originally mapped our two possible states $|0\\rangle$ and $|1\\rangle$ to values $0 \\$ $ and $1 \\$$ respectively, we can trivially calculate the expected value. For $p = 0.3$ and $m = 5$, QAA produces a approximate value of $\\tilde{p} = 0.309$. Therefore the expectation value\n",
    "    \\begin{equation}\n",
    "        V = (1 - 3.09)\\cdot 0 \\$ + 0.309 \\cdot 1 \\$ = 0.309 \\$ \\,.\n",
    "    \\end{equation}"
   ]
  },
  {
   "cell_type": "markdown",
   "metadata": {},
   "source": [
    "This was a simple demonstration of the Quantum Amplitude Estimation algorithm applied to calculating the expactation value of a US Treasury bill, meant to show the key parts of the method. Next step could be to implement a more comprehensive distribution of possible outcomes, which would mean a non-trivial objective operator acting on an additional qubit as well as more complex $A$ and $Q$ gates. That's a story for another time."
   ]
  },
  {
   "cell_type": "code",
   "execution_count": null,
   "metadata": {},
   "outputs": [],
   "source": []
  }
 ],
 "metadata": {
  "kernelspec": {
   "display_name": "Python 3",
   "language": "python",
   "name": "python3"
  },
  "language_info": {
   "codemirror_mode": {
    "name": "ipython",
    "version": 3
   },
   "file_extension": ".py",
   "mimetype": "text/x-python",
   "name": "python",
   "nbconvert_exporter": "python",
   "pygments_lexer": "ipython3",
   "version": "3.6.8"
  }
 },
 "nbformat": 4,
 "nbformat_minor": 4
}
